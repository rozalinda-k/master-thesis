{
 "cells": [
  {
   "cell_type": "code",
   "execution_count": 1,
   "id": "35fa1bd5",
   "metadata": {},
   "outputs": [],
   "source": [
    "import pandas as pd\n",
    "import re\n",
    "import multiprocessing"
   ]
  },
  {
   "cell_type": "code",
   "execution_count": 2,
   "id": "34a3de44",
   "metadata": {},
   "outputs": [],
   "source": [
    "cpa_train_gt = pd.read_csv('SOTAB CPA/sotab_v2_cpa_training_set.csv')\n",
    "cpa_test_gt = pd.read_csv('SOTAB CPA/sample_test.csv')"
   ]
  },
  {
   "cell_type": "code",
   "execution_count": null,
   "id": "3d55d6e2",
   "metadata": {},
   "outputs": [],
   "source": [
    "cpa_train_gt"
   ]
  },
  {
   "cell_type": "code",
   "execution_count": null,
   "id": "ebbe4250",
   "metadata": {},
   "outputs": [],
   "source": [
    "cpa_test_gt"
   ]
  },
  {
   "cell_type": "code",
   "execution_count": 6,
   "id": "acea0fc1",
   "metadata": {},
   "outputs": [],
   "source": [
    "cpa_test_gt[\"class\"] = cpa_test_gt[\"table_name\"].apply(lambda x: x.split(\"_\")[0])"
   ]
  },
  {
   "cell_type": "code",
   "execution_count": 6,
   "id": "d346f647",
   "metadata": {},
   "outputs": [
    {
     "data": {
      "text/html": [
       "<div>\n",
       "<style scoped>\n",
       "    .dataframe tbody tr th:only-of-type {\n",
       "        vertical-align: middle;\n",
       "    }\n",
       "\n",
       "    .dataframe tbody tr th {\n",
       "        vertical-align: top;\n",
       "    }\n",
       "\n",
       "    .dataframe thead th {\n",
       "        text-align: right;\n",
       "    }\n",
       "</style>\n",
       "<table border=\"1\" class=\"dataframe\">\n",
       "  <thead>\n",
       "    <tr style=\"text-align: right;\">\n",
       "      <th></th>\n",
       "      <th>table_name</th>\n",
       "      <th>main_column_index</th>\n",
       "      <th>column_index</th>\n",
       "      <th>label</th>\n",
       "      <th>class</th>\n",
       "    </tr>\n",
       "  </thead>\n",
       "  <tbody>\n",
       "    <tr>\n",
       "      <th>0</th>\n",
       "      <td>Book_antipodean.com_September2020_CPA.json.gz</td>\n",
       "      <td>0</td>\n",
       "      <td>4</td>\n",
       "      <td>publisher</td>\n",
       "      <td>Book</td>\n",
       "    </tr>\n",
       "    <tr>\n",
       "      <th>1</th>\n",
       "      <td>Event_bfodurham.net_September2020_CPA.json.gz</td>\n",
       "      <td>0</td>\n",
       "      <td>3</td>\n",
       "      <td>eventStatus</td>\n",
       "      <td>Event</td>\n",
       "    </tr>\n",
       "    <tr>\n",
       "      <th>2</th>\n",
       "      <td>Event_bfodurham.net_September2020_CPA.json.gz</td>\n",
       "      <td>0</td>\n",
       "      <td>4</td>\n",
       "      <td>eventAttendanceMode</td>\n",
       "      <td>Event</td>\n",
       "    </tr>\n",
       "    <tr>\n",
       "      <th>3</th>\n",
       "      <td>Event_healthychelsea.org_September2020_CPA.jso...</td>\n",
       "      <td>0</td>\n",
       "      <td>4</td>\n",
       "      <td>organizer</td>\n",
       "      <td>Event</td>\n",
       "    </tr>\n",
       "    <tr>\n",
       "      <th>4</th>\n",
       "      <td>Event_healthychelsea.org_September2020_CPA.jso...</td>\n",
       "      <td>0</td>\n",
       "      <td>5</td>\n",
       "      <td>telephone</td>\n",
       "      <td>Event</td>\n",
       "    </tr>\n",
       "    <tr>\n",
       "      <th>...</th>\n",
       "      <td>...</td>\n",
       "      <td>...</td>\n",
       "      <td>...</td>\n",
       "      <td>...</td>\n",
       "      <td>...</td>\n",
       "    </tr>\n",
       "    <tr>\n",
       "      <th>504</th>\n",
       "      <td>Product_cit.li_September2020_CPA.json.gz</td>\n",
       "      <td>0</td>\n",
       "      <td>2</td>\n",
       "      <td>weight</td>\n",
       "      <td>Product</td>\n",
       "    </tr>\n",
       "    <tr>\n",
       "      <th>505</th>\n",
       "      <td>Product_cit.li_September2020_CPA.json.gz</td>\n",
       "      <td>0</td>\n",
       "      <td>4</td>\n",
       "      <td>productID</td>\n",
       "      <td>Product</td>\n",
       "    </tr>\n",
       "    <tr>\n",
       "      <th>506</th>\n",
       "      <td>Product_coininvest.com_September2020_CPA.json.gz</td>\n",
       "      <td>0</td>\n",
       "      <td>4</td>\n",
       "      <td>manufacturer</td>\n",
       "      <td>Product</td>\n",
       "    </tr>\n",
       "    <tr>\n",
       "      <th>507</th>\n",
       "      <td>Recipe_bakedbyanintrovert.com_September2020_CP...</td>\n",
       "      <td>0</td>\n",
       "      <td>11</td>\n",
       "      <td>recipeInstructions</td>\n",
       "      <td>Recipe</td>\n",
       "    </tr>\n",
       "    <tr>\n",
       "      <th>508</th>\n",
       "      <td>Recipe_confessionsofafitfoodie.com_September20...</td>\n",
       "      <td>0</td>\n",
       "      <td>17</td>\n",
       "      <td>review</td>\n",
       "      <td>Recipe</td>\n",
       "    </tr>\n",
       "  </tbody>\n",
       "</table>\n",
       "<p>509 rows × 5 columns</p>\n",
       "</div>"
      ],
      "text/plain": [
       "                                            table_name  main_column_index  \\\n",
       "0        Book_antipodean.com_September2020_CPA.json.gz                  0   \n",
       "1        Event_bfodurham.net_September2020_CPA.json.gz                  0   \n",
       "2        Event_bfodurham.net_September2020_CPA.json.gz                  0   \n",
       "3    Event_healthychelsea.org_September2020_CPA.jso...                  0   \n",
       "4    Event_healthychelsea.org_September2020_CPA.jso...                  0   \n",
       "..                                                 ...                ...   \n",
       "504           Product_cit.li_September2020_CPA.json.gz                  0   \n",
       "505           Product_cit.li_September2020_CPA.json.gz                  0   \n",
       "506   Product_coininvest.com_September2020_CPA.json.gz                  0   \n",
       "507  Recipe_bakedbyanintrovert.com_September2020_CP...                  0   \n",
       "508  Recipe_confessionsofafitfoodie.com_September20...                  0   \n",
       "\n",
       "     column_index                label    class  \n",
       "0               4            publisher     Book  \n",
       "1               3          eventStatus    Event  \n",
       "2               4  eventAttendanceMode    Event  \n",
       "3               4            organizer    Event  \n",
       "4               5            telephone    Event  \n",
       "..            ...                  ...      ...  \n",
       "504             2               weight  Product  \n",
       "505             4            productID  Product  \n",
       "506             4         manufacturer  Product  \n",
       "507            11   recipeInstructions   Recipe  \n",
       "508            17               review   Recipe  \n",
       "\n",
       "[509 rows x 5 columns]"
      ]
     },
     "execution_count": 6,
     "metadata": {},
     "output_type": "execute_result"
    }
   ],
   "source": [
    "cpa_test_gt"
   ]
  },
  {
   "cell_type": "code",
   "execution_count": 7,
   "id": "317e22a0",
   "metadata": {},
   "outputs": [],
   "source": [
    "gt = {'train':{}, 'test':{}}\n",
    "for index, row in cpa_train_gt.iterrows():\n",
    "    if row[\"table_name\"] not in gt['train']:\n",
    "        gt['train'][row[\"table_name\"]] = {}\n",
    "    gt['train'][row[\"table_name\"]][row[\"column_index\"]] = row[\"label\"]\n",
    "    \n",
    "for index, row in cpa_test_gt.iterrows():\n",
    "    if row[\"table_name\"] not in gt['test']:\n",
    "        gt['test'][row[\"table_name\"]] = {}\n",
    "    gt['test'][row[\"table_name\"]][row[\"column_index\"]] = row[\"label\"]"
   ]
  },
  {
   "cell_type": "code",
   "execution_count": 8,
   "id": "078bd4c8",
   "metadata": {},
   "outputs": [],
   "source": [
    "def clean_text(text):\n",
    "        \n",
    "    if(isinstance(text, dict)):\n",
    "        text = ' '.join([ clean_text(v) for k, v in text.items()] )\n",
    "    elif(isinstance(text, list)):\n",
    "        text = map(clean_text, text)\n",
    "        text = ' '.join(text)\n",
    "        \n",
    "    if pd.isnull(text):\n",
    "        return ''\n",
    "    \n",
    "    text = re.sub(' +', ' ', str(text)).strip()\n",
    "    \n",
    "    return text"
   ]
  },
  {
   "cell_type": "code",
   "execution_count": 11,
   "id": "113fd740",
   "metadata": {},
   "outputs": [],
   "source": [
    "\n",
    "def get_all_table_columns(file_name, index):\n",
    "    \n",
    "    if file_name in cpa_train_gt[\"table_name\"].tolist():\n",
    "        path = 'SOTAB CPA/Train/'+file_name\n",
    "    else:\n",
    "        path = 'SOTAB CPA/Test/'+file_name\n",
    "    \n",
    "    df = pd.read_json(path, compression='gzip', lines=True)\n",
    "        \n",
    "    cleaned_rows = []\n",
    "\n",
    "    cleaned_main=\"{}{}\"\n",
    "\n",
    "    x = \" \".join([\" \".join(clean_text(row).split()[:20]) for row in df[0].tolist()[:5]])\n",
    "    cleaned_main=cleaned_main.format(\"Column 1: \", x)\n",
    "    cleaned_rows.append(cleaned_main)\n",
    "\n",
    "    cleaned_rows.append(\"\\n Column 2:\")\n",
    "    \n",
    "    \n",
    "    for row in df.iloc[:, index].tolist():\n",
    "        get_values_var=7\n",
    "        cleaned = \" \".join(clean_text(row).split()[:20])\n",
    "        \n",
    "        if cleaned != \"\":\n",
    "            cleaned_rows.append(cleaned)\n",
    "        else:\n",
    "            get_values_var=get_values_var-1\n",
    "\n",
    "    \n",
    "    return \" \".join(cleaned_rows[:get_values_var]) "
   ]
  },
  {
   "cell_type": "code",
   "execution_count": 12,
   "id": "f934df61",
   "metadata": {},
   "outputs": [],
   "source": [
    "test_examples = []\n",
    "for table in gt['test']:\n",
    "    for column in gt['test'][table]:\n",
    "        col_str = get_all_table_columns(table, column)\n",
    "        test_examples.append([table, column, col_str, gt['test'][table][column], table.split(\"_\")[0]])"
   ]
  },
  {
   "cell_type": "code",
   "execution_count": null,
   "id": "55297ba6",
   "metadata": {},
   "outputs": [],
   "source": [
    "test_examples"
   ]
  },
  {
   "cell_type": "code",
   "execution_count": null,
   "id": "29bbade7",
   "metadata": {},
   "outputs": [],
   "source": [
    "train_examples = []\n",
    "for table in gt['train']:\n",
    "    for column in gt['train'][table]:\n",
    "        col_str = get_all_table_columns(table, column)\n",
    "        train_examples.append([table, column, col_str, gt['train'][table][column], table.split(\"_\")[0]])"
   ]
  },
  {
   "cell_type": "code",
   "execution_count": null,
   "id": "a1c465be",
   "metadata": {},
   "outputs": [],
   "source": [
    "train_examples"
   ]
  },
  {
   "cell_type": "code",
   "execution_count": null,
   "metadata": {},
   "outputs": [],
   "source": [
    "len(train_examples)"
   ]
  },
  {
   "cell_type": "code",
   "execution_count": 14,
   "id": "261b2c8e",
   "metadata": {},
   "outputs": [],
   "source": [
    "import pickle"
   ]
  },
  {
   "cell_type": "code",
   "execution_count": null,
   "id": "2d36c3f5",
   "metadata": {},
   "outputs": [],
   "source": [
    "file_name='SOTAB CPA/sotabv2-cpa-train-column.pkl'\n",
    "f = open(file_name,'wb')\n",
    "pickle.dump(train_examples,f)\n",
    "f.close()"
   ]
  },
  {
   "cell_type": "code",
   "execution_count": 15,
   "id": "cc8bbb3a",
   "metadata": {},
   "outputs": [],
   "source": [
    "file_name='SOTAB CPA/sotabv2-cpa-sample-test-column.pkl'\n",
    "f = open(file_name,'wb')\n",
    "pickle.dump(test_examples,f)\n",
    "f.close()"
   ]
  }
 ],
 "metadata": {
  "kernelspec": {
   "display_name": "Python 3 (ipykernel)",
   "language": "python",
   "name": "python3"
  },
  "language_info": {
   "codemirror_mode": {
    "name": "ipython",
    "version": 3
   },
   "file_extension": ".py",
   "mimetype": "text/x-python",
   "name": "python",
   "nbconvert_exporter": "python",
   "pygments_lexer": "ipython3",
   "version": "3.8.18"
  }
 },
 "nbformat": 4,
 "nbformat_minor": 5
}
