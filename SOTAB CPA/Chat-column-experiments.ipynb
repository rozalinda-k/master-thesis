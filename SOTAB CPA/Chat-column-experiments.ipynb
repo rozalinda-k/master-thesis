{
 "cells": [
  {
   "cell_type": "code",
   "execution_count": 1,
   "id": "307f1685",
   "metadata": {},
   "outputs": [],
   "source": [
    "import os\n",
    "import re\n",
    "import pickle\n",
    "import numpy as np\n",
    "import pandas as pd\n",
    "from dotenv import dotenv_values\n",
    "from langchain import PromptTemplate, LLMChain, OpenAI\n",
    "from langchain.chat_models import ChatOpenAI\n",
    "from langchain.schema import SystemMessage, HumanMessage, AIMessage"
   ]
  },
  {
   "cell_type": "code",
   "execution_count": 2,
   "id": "b3076071",
   "metadata": {},
   "outputs": [],
   "source": [
    "config = dotenv_values('../.env')\n",
    "os.environ['OPENAI_API_KEY'] = config[\"OPENAI_API_KEY\"]\n",
    "OPENAI_API_KEY = config[\"OPENAI_API_KEY\"]"
   ]
  },
  {
   "cell_type": "code",
   "execution_count": 3,
   "id": "29ea71c8",
   "metadata": {},
   "outputs": [],
   "source": [
    "labels_to_text = {\n",
    "    \"datePublished\": \"date published\",\n",
    "    \"isbn\": \"isbn\",\n",
    "    \"numberOfPages\": \"number of pages\",\n",
    "    \"worstRating\": \"worst rating\",\n",
    "    \"priceCurrency\": \"price currency\",\n",
    "    \"publisher\": \"publisher\",\n",
    "    \"author\": \"author\",\n",
    "    \"bookFormat\": \"book format\",\n",
    "    \"inLanguage\": \"in language\",\n",
    "    \"ratingValue\": \"rating value\",\n",
    "    \"description\": \"description\",\n",
    "    \"price\": \"price\",\n",
    "    \"image\": \"image\",\n",
    "    \"url\": \"url\",\n",
    "    \"availability\": \"availability\",\n",
    "    \"genre\": \"genre\",\n",
    "    \"bestRating\": \"best rating\",\n",
    "    \"itemCondition\": \"item condition\",\n",
    "    \"review\": \"review\",\n",
    "    \"startDate\": \"start date\",\n",
    "    \"endDate\": \"end date\",\n",
    "    \"location\": \"location\",\n",
    "    \"validFrom\": \"valid from\",\n",
    "    \"eventStatus\": \"event status\",\n",
    "    \"eventAttendanceMode\": \"event attendance mode\",\n",
    "    \"organizer\": \"organizer\",\n",
    "    \"category\": \"category\",\n",
    "    \"validThrough\": \"valid through\",\n",
    "    \"telephone\": \"telephone\",\n",
    "    \"duration\": \"duration\",\n",
    "    \"email\": \"email\",\n",
    "    \"streetAddress\": \"street address\",\n",
    "    \"addressRegion\": \"region of address\",\n",
    "    \"addressLocality\": \"locality of address\",\n",
    "    \"priceRange\": \"price range\",\n",
    "    \"postalCode\": \"postal code\",\n",
    "    \"addressCountry\": \"address country\",\n",
    "    \"faxNumber\": \"fax number\",\n",
    "    \"dateCreated\": \"date created\",\n",
    "    \"director\": \"director\",\n",
    "    \"contentRating\": \"content rating\",\n",
    "    \"actor\": \"actor\",\n",
    "    \"inAlbum\": \"in album\",\n",
    "    \"byArtist\": \"by artist\",\n",
    "    \"jobTitle\": \"job title\",\n",
    "    \"birthDate\": \"birth date\",\n",
    "    \"gender\": \"gender\",\n",
    "    \"nationality\": \"nationality\",\n",
    "    \"weight\": \"weight\",\n",
    "    \"releaseDate\": \"release date\",\n",
    "    \"copyrightYear\": \"copyright year\",\n",
    "    \"bookEdition\": \"book edition\",\n",
    "    \"headline\": \"headline\",\n",
    "    \"text\": \"text\",\n",
    "    \"address\": \"address\",\n",
    "    \"performer\": \"performer\",\n",
    "    \"longitude\": \"longitude\",\n",
    "    \"latitude\": \"latitude\",\n",
    "    \"currenciesAccepted\": \"currencies accepted\",\n",
    "    \"checkoutTime\": \"checkout time\",\n",
    "    \"checkInTime\": \"check-in time\",\n",
    "    \"amenityFeature\": \"amenity feature\",\n",
    "    \"paymentAccepted\": \"payment accepted\",\n",
    "    \"availableLanguage\": \"available language\",\n",
    "    \"brand\": \"brand\",\n",
    "    \"openingHours\": \"opening hours\",\n",
    "    \"datePosted\": \"date posted\",\n",
    "    \"employmentType\": \"employment type\",\n",
    "    \"hiringOrganization\": \"hiring organization\",\n",
    "    \"opens\": \"opens\",\n",
    "    \"dayOfWeek\": \"day of week\",\n",
    "    \"closes\": \"closes\",\n",
    "    \"productionCompany\": \"production company\",\n",
    "    \"countryOfOrigin\": \"country of origin\",\n",
    "    \"numTracks\": \"number of tracks\",\n",
    "    \"track\": \"track\",\n",
    "    \"givenName\": \"given name\",\n",
    "    \"familyName\": \"family name\",\n",
    "    \"birthPlace\": \"birth place\",\n",
    "    \"honorificSuffix\": \"honorific suffix\",\n",
    "    \"alumniOf\": \"alumni of\",\n",
    "    \"deathDate\": \"death date\",\n",
    "    \"measurements\": \"measurements\",\n",
    "    \"unitCode\": \"unit code\",\n",
    "    \"productID\": \"product ID\",\n",
    "    \"unitText\": \"unit text\",\n",
    "    \"availableDeliveryMethod\": \"available delivery method\",\n",
    "    \"model\": \"model\",\n",
    "    \"manufacturer\": \"manufacturer\",\n",
    "    \"color\": \"color\",\n",
    "    \"gtin\": \"gtin\",\n",
    "    \"material\": \"material\",\n",
    "    \"servingSize\": \"serving size\",\n",
    "    \"recipeInstructions\": \"recipe instructions\",\n",
    "    \"recipeIngredient\": \"recipe ingredient\",\n",
    "    \"cookTime\": \"cook time\",\n",
    "    \"prepTime\": \"prep time\",\n",
    "    \"totalTime\": \"total time\",\n",
    "    \"nutrition\": \"nutrition\",\n",
    "    \"recipeCategory\": \"recipe category\",\n",
    "    \"recipeCuisine\": \"recipe cuisine\",\n",
    "    \"cookingMethod\": \"cooking method\",\n",
    "    \"suitableForDiet\": \"suitable for diet\",\n",
    "    \"servesCuisine\": \"serves cuisine\",\n",
    "    \"awayTeam\": \"away team\",\n",
    "    \"homeTeam\": \"home team\",\n",
    "    \"partOfSeries\": \"part of series\",\n",
    "    \"episodeNumber\": \"episode number\"\n",
    "}"
   ]
  },
  {
   "cell_type": "code",
   "execution_count": 4,
   "id": "ae7105a7",
   "metadata": {},
   "outputs": [
    {
     "data": {
      "text/plain": [
       "108"
      ]
     },
     "execution_count": 4,
     "metadata": {},
     "output_type": "execute_result"
    }
   ],
   "source": [
    "len(labels_to_text)"
   ]
  },
  {
   "cell_type": "code",
   "execution_count": 4,
   "id": "5df20f52",
   "metadata": {},
   "outputs": [],
   "source": [
    "text_to_label = {\n",
    "    \"date published\": \"datePublished\",\n",
    "    \"isbn\": \"isbn\",\n",
    "    \"number of pages\": \"numberOfPages\",\n",
    "    \"worst rating\": \"worstRating\",\n",
    "    \"price currency\": \"priceCurrency\",\n",
    "    \"publisher\": \"publisher\",\n",
    "    \"author\": \"author\",\n",
    "    \"book format\": \"bookFormat\",\n",
    "    \"in language\": \"inLanguage\",\n",
    "    \"rating value\": \"ratingValue\",\n",
    "    \"description\": \"description\",\n",
    "    \"price\": \"priceRange\",\n",
    "    \"image\": \"image\",\n",
    "    \"url\": \"url\",\n",
    "    \"availability\": \"availability\",\n",
    "    \"genre\": \"genre\",\n",
    "    \"best rating\": \"bestRating\",\n",
    "    \"item condition\": \"itemCondition\",\n",
    "    \"review\": \"review\",\n",
    "    \"start date\": \"startDate\",\n",
    "    \"end date\": \"endDate\",\n",
    "    \"location\": \"location\",\n",
    "    \"valid from\": \"validFrom\",\n",
    "    \"event status\": \"eventStatus\",\n",
    "    \"event attendance mode\": \"eventAttendanceMode\",\n",
    "    \"organizer\": \"organizer\",\n",
    "    \"category\": \"category\",\n",
    "    \"valid through\": \"validThrough\",\n",
    "    \"telephone\": \"telephone\",\n",
    "    \"duration\": \"duration\",\n",
    "    \"email\": \"email\",\n",
    "    \"street address\": \"streetAddress\",\n",
    "    \"region of address\": \"addressRegion\",\n",
    "    \"locality of address\": \"addressLocality\",\n",
    "    \"price range\": \"priceRange\",\n",
    "    \"postal code\": \"postalCode\",\n",
    "    \"address country\": \"addressCountry\",\n",
    "    \"fax number\": \"faxNumber\",\n",
    "    \"date created\": \"dateCreated\",\n",
    "    \"director\": \"director\",\n",
    "    \"content rating\": \"contentRating\",\n",
    "    \"actor\": \"actor\",\n",
    "    \"in album\": \"inAlbum\",\n",
    "    \"by artist\": \"byArtist\",\n",
    "    \"job title\": \"jobTitle\",\n",
    "    \"birth date\": \"birthDate\",\n",
    "    \"gender\": \"gender\",\n",
    "    \"nationality\": \"nationality\",\n",
    "    \"weight\": \"weight\",\n",
    "    \"release date\": \"releaseDate\",\n",
    "    \"copyright year\": \"copyrightYear\",\n",
    "    \"book edition\": \"bookEdition\",\n",
    "    \"headline\": \"headline\",\n",
    "    \"text\": \"text\",\n",
    "    \"address\": \"address\",\n",
    "    \"performer\": \"performer\",\n",
    "    \"longitude\": \"longitude\",\n",
    "    \"latitude\": \"latitude\",\n",
    "    \"currencies accepted\": \"currenciesAccepted\",\n",
    "    \"checkout time\": \"checkoutTime\",\n",
    "    \"check-in time\": \"checkInTime\",\n",
    "    \"amenity feature\": \"amenityFeature\",\n",
    "    \"payment accepted\": \"paymentAccepted\",\n",
    "    \"available language\": \"availableLanguage\",\n",
    "    \"brand\": \"brand\",\n",
    "    \"opening hours\": \"openingHours\",\n",
    "    \"date posted\": \"datePosted\",\n",
    "    \"employment type\": \"employmentType\",\n",
    "    \"hiring organization\": \"hiringOrganization\",\n",
    "    \"opens\": \"opens\",\n",
    "    \"day of week\": \"dayOfWeek\",\n",
    "    \"closes\": \"closes\",\n",
    "    \"production company\": \"productionCompany\",\n",
    "    \"country of origin\": \"countryOfOrigin\",\n",
    "    \"number of tracks\": \"numTracks\",\n",
    "    \"track\": \"track\",\n",
    "    \"given name\": \"givenName\",\n",
    "    \"family name\": \"familyName\",\n",
    "    \"birth place\": \"birthPlace\",\n",
    "    \"honorific suffix\": \"honorificSuffix\",\n",
    "    \"alumni of\": \"alumniOf\",\n",
    "    \"death date\": \"deathDate\",\n",
    "    \"measurements\": \"measurements\",\n",
    "    \"unit code\": \"unitCode\",\n",
    "    \"product ID\": \"productID\",\n",
    "    \"unit text\": \"unitText\",\n",
    "    \"available delivery method\": \"availableDeliveryMethod\",\n",
    "    \"model\": \"model\",\n",
    "    \"manufacturer\": \"manufacturer\",\n",
    "    \"color\": \"color\",\n",
    "    \"gtin\": \"gtin\",\n",
    "    \"material\": \"material\",\n",
    "    \"serving size\": \"servingSize\",\n",
    "    \"recipe instructions\": \"recipeInstructions\",\n",
    "    \"recipe ingredient\": \"recipeIngredient\",\n",
    "    \"cook time\": \"cookTime\",\n",
    "    \"prep time\": \"prepTime\",\n",
    "    \"total time\": \"totalTime\",\n",
    "    \"nutrition\": \"nutrition\",\n",
    "    \"recipe category\": \"recipeCategory\",\n",
    "    \"recipe cuisine\": \"recipeCuisine\",\n",
    "    \"cooking method\": \"cookingMethod\",\n",
    "    \"suitable for diet\": \"suitableForDiet\",\n",
    "    \"serves cuisine\": \"servesCuisine\",\n",
    "    \"away team\": \"awayTeam\",\n",
    "    \"home team\": \"homeTeam\",\n",
    "    \"part of series\": \"partOfSeries\",\n",
    "    \"episode number\": \"episodeNumber\"\n",
    "}"
   ]
  },
  {
   "cell_type": "markdown",
   "id": "9359aafc",
   "metadata": {},
   "source": [
    "## Load test (and training) set"
   ]
  },
  {
   "cell_type": "code",
   "execution_count": 5,
   "id": "8c7dbc80",
   "metadata": {},
   "outputs": [],
   "source": [
    "with open('sotabv2-cpa-train-column.pkl', \"rb\") as f:\n",
    "    train = pickle.load(f)\n",
    "with open('sotabv2-cpa-sample-test-column.pkl', \"rb\") as f:\n",
    "    test = pickle.load(f) \n",
    "examples = [example[2] for example in test ]     \n",
    "labels = [example[3] for example in test ]\n",
    "\n",
    "train_examples = [ example[2] for example in train ]\n",
    "train_labels = [ labels_to_text[example[3]] for example in train ]"
   ]
  },
  {
   "cell_type": "code",
   "execution_count": 7,
   "metadata": {},
   "outputs": [
    {
     "data": {
      "text/plain": [
       "109994"
      ]
     },
     "execution_count": 7,
     "metadata": {},
     "output_type": "execute_result"
    }
   ],
   "source": [
    "len(train)"
   ]
  },
  {
   "cell_type": "code",
   "execution_count": 8,
   "metadata": {},
   "outputs": [
    {
     "data": {
      "text/plain": [
       "509"
      ]
     },
     "execution_count": 8,
     "metadata": {},
     "output_type": "execute_result"
    }
   ],
   "source": [
    "len(test)"
   ]
  },
  {
   "cell_type": "code",
   "execution_count": 6,
   "metadata": {},
   "outputs": [
    {
     "name": "stdout",
     "output_type": "stream",
     "text": [
      "total time, currencies accepted, date posted, country of origin, review, alumni of, organizer, given name, number of pages, item condition, duration, hiring organization, employment type, email, director, date published, weight, text, address country, valid through, family name, away team, author, copyright year, amenity feature, gtin, serving size, valid from, recipe cuisine, recipe instructions, home team, recipe category, by artist, nutrition, birth place, prep time, birth date, production company, worst rating, day of week, checkout time, available delivery method, headline, publisher, opening hours, number of tracks, event status, locality of address, opens, in album, measurements, content rating, material, end date, location, region of address, honorific suffix, postal code, book edition, part of series, telephone, availability, best rating, address, closes, job title, image, nationality, gender, product ID, rating value, track, available language, price currency, death date, cooking method, event attendance mode, check-in time, actor, longitude, payment accepted, performer, genre, unit text, cook time, date created, episode number, suitable for diet, release date, description, price range, category, isbn, serves cuisine, brand, unit code, color, recipe ingredient, street address, latitude, book format, start date, fax number, url, manufacturer, price, in language, model\n"
     ]
    }
   ],
   "source": [
    "labels_joined = \", \".join([labels_to_text[label] for label in list(set(labels))])   \n",
    "print(labels_joined)"
   ]
  },
  {
   "cell_type": "code",
   "execution_count": 7,
   "metadata": {},
   "outputs": [],
   "source": [
    "model_name = 'gpt-3.5-turbo-1106'\n",
    "chat = ChatOpenAI(openai_api_key=OPENAI_API_KEY, temperature=0, model=model_name, max_tokens=4)   #max_tokens=4"
   ]
  },
  {
   "cell_type": "markdown",
   "id": "f825141f",
   "metadata": {},
   "source": [
    "## Choose setup: zero-shot, one-shot or five-shot"
   ]
  },
  {
   "cell_type": "markdown",
   "id": "7bf6c5d6",
   "metadata": {},
   "source": [
    "CPA COLUMN\n"
   ]
  },
  {
   "cell_type": "markdown",
   "metadata": {},
   "source": [
    "ZERO-SHOT"
   ]
  },
  {
   "cell_type": "code",
   "execution_count": null,
   "metadata": {},
   "outputs": [],
   "source": [
    "#role\n",
    "nr=\"zero\"\n",
    "prompt_name = \"r\"\n",
    "\n",
    "preds = []\n",
    "for example in examples:\n",
    "    messages = []\n",
    "    \n",
    "    messages.append(SystemMessage(content=f\"You are a great Table Annotation Specialist and your task is to classify the relationship between two columns with ONLY ONE of the following labels that are separated with comma: {labels_joined}.\"))\n",
    "\n",
    "    messages.append(HumanMessage(content=f\"Classify this relation: {example}\"))\n",
    "\n",
    "    print(messages)\n",
    "    res = chat(messages)\n",
    "    preds.append(res.content)"
   ]
  },
  {
   "cell_type": "code",
   "execution_count": 37,
   "metadata": {},
   "outputs": [],
   "source": [
    "#role + instructions \n",
    "nr=\"zero\"\n",
    "prompt_name = \"r+i\"\n",
    "\n",
    "preds = []\n",
    "for example in examples:\n",
    "    messages = []\n",
    "\n",
    "    messages.append(SystemMessage(content=f\"You are a great Table Annotation Specialist and your task is to classify the relationship between two columns with ONLY ONE of the following labels that are separated with comma: {labels_joined}.\"))\n",
    "    messages.append(SystemMessage(content=\"Your instructions are: 1. Review the provided column values. 2. Carefully examine the values of the two columns. 3. Select a single label that best represents the relationship between these two columns. 4. Answer with your final selected label. 5. Ensure that you answer with ONLY ONE label from the provided label-set for each relation!\"))\n",
    "\n",
    "    messages.append(HumanMessage(content=f\"Classify this relation: {example}\"))\n",
    "    res = chat(messages)\n",
    "    preds.append(res.content)"
   ]
  },
  {
   "cell_type": "code",
   "execution_count": 51,
   "metadata": {},
   "outputs": [],
   "source": [
    "#role + instructions + step by step\n",
    "nr=\"zero\"\n",
    "prompt_name = \"r+i+s_b_s\"\n",
    "\n",
    "preds = []\n",
    "for example in examples:\n",
    "    messages = []\n",
    "\n",
    "    messages.append(SystemMessage(content=f\"You are a great Table Annotation Specialist and your task is to classify the relationship between two columns with ONLY ONE of the following labels that are separated with comma: {labels_joined}.\"))\n",
    "    messages.append(SystemMessage(content=\"Let's think step by step. Your instructions are: 1. Review the provided column values. 2. Carefully examine the values of the two columns. 3. Select a single label that best represents the relationship between these two columns. 4. Answer with your final selected label. 5. Ensure that you answer with ONLY ONE label from the provided label-set for each relation!\"))\n",
    "\n",
    "    messages.append(HumanMessage(content=f\"Classify this relation: {example}\"))\n",
    "    res = chat(messages)\n",
    "    preds.append(res.content)"
   ]
  },
  {
   "cell_type": "code",
   "execution_count": 68,
   "metadata": {},
   "outputs": [],
   "source": [
    "#role + instructions + motivation\n",
    "nr=\"zero\"\n",
    "prompt_name = \"r+i+m\"\n",
    "\n",
    "preds = []\n",
    "for example in examples:\n",
    "    messages = []\n",
    "\n",
    "    messages.append(SystemMessage(content=f\"You are a great Table Annotation Specialist and your task is to classify the relationship between two columns with ONLY ONE of the following labels that are separated with comma: {labels_joined}.\"))\n",
    "    messages.append(SystemMessage(content=\"Your instructions are: 1. Review the provided column values. 2. Carefully examine the values of the two columns. 3. Select a single label that best represents the relationship between these two columns. 4. Answer with your final selected label. 5. Ensure that you answer with ONLY ONE label from the provided label-set for each relation!\"))\n",
    "    messages.append(SystemMessage(content=\"Your answer is very important. Take your time and think well before answering!\"))\n",
    "\n",
    "    messages.append(HumanMessage(content=f\"Classify this relation: {example}\"))\n",
    "    res = chat(messages)\n",
    "    preds.append(res.content)"
   ]
  },
  {
   "cell_type": "code",
   "execution_count": 86,
   "metadata": {},
   "outputs": [],
   "source": [
    "#role + instructions (motivation as instruction)\n",
    "nr=\"zero\"\n",
    "prompt_name = \"r+i(m)\"\n",
    "\n",
    "preds = []\n",
    "for example in examples:\n",
    "    messages = []\n",
    "\n",
    "    messages.append(SystemMessage(content=f\"You are a great Table Annotation Specialist and your task is to classify the relationship between two columns with ONLY ONE of the following labels that are separated with comma: {labels_joined}.\"))\n",
    "    messages.append(SystemMessage(content=\"Your instructions are: 1. Review the provided column values. 2. Carefully examine the values of the two columns. 3. Select a single label that best represents the relationship between these two columns. 4. Answer with your final selected label. 5. Ensure that you answer with ONLY ONE label from the provided label-set for each relation! 6. Your answer is very important. Take your time and think well before answering!\"))\n",
    " \n",
    "    messages.append(HumanMessage(content=f\"Classify this relation: {example}\"))\n",
    "    res = chat(messages)\n",
    "    preds.append(res.content)"
   ]
  },
  {
   "cell_type": "code",
   "execution_count": null,
   "metadata": {},
   "outputs": [],
   "source": [
    "#role + instructions + CONTEXT\n",
    "nr=\"zero\"\n",
    "prompt_name = \"r+i+c\"\n",
    "\n",
    "preds = []\n",
    "for example in examples:\n",
    "    messages = []\n",
    "    \n",
    "    messages.append(SystemMessage(content=f\"You are a great Table Annotation Specialist and your task is to classify the relationship between two columns with ONLY ONE of the following labels that are separated with comma: {labels_joined}.\"))\n",
    "    messages.append(SystemMessage(content=\"Your instructions are: 1. Review the provided column values. 2. Carefully examine the values of the two columns. 3. Select a single label that best represents the relationship between these two columns. 4. Answer with your final selected label. 5. Ensure that you answer with ONLY ONE label from the provided label-set for each relation!\"))\n",
    "    messages.append(SystemMessage(content=f\"CONTEXT: Column Property Annotation is a sub-task of Table Annotation and refers to predicting the semantic relation between two or more columns. You have the same task, you are required to annotate the relation between two given columns.\"))\n",
    "    \n",
    "    messages.append(HumanMessage(content=f\"Classify this relation: {example}\"))\n",
    "    res = chat(messages)\n",
    "    preds.append(res.content)"
   ]
  },
  {
   "cell_type": "code",
   "execution_count": null,
   "metadata": {},
   "outputs": [],
   "source": []
  },
  {
   "cell_type": "markdown",
   "metadata": {},
   "source": [
    "ONE-SHOT"
   ]
  },
  {
   "cell_type": "code",
   "execution_count": 150,
   "metadata": {},
   "outputs": [],
   "source": [
    "#role\n",
    "import random\n",
    "\n",
    "nr=\"one\"\n",
    "prompt_name = \"r\"\n",
    "\n",
    "preds = []\n",
    "for example in examples:\n",
    "    messages = []\n",
    "    \n",
    "    messages.append(SystemMessage(content=f\"You are a great Table Annotation Specialist and your task is to classify the relationship between two columns with ONLY ONE of the following labels that are separated with comma: {labels_joined}.\"))\n",
    "\n",
    "    index = random.randint(0, len(train_examples)-1)\n",
    "    messages.append(HumanMessage(content=f\"Classify this relation: {train_examples[index]}\"))\n",
    "    messages.append(AIMessage(content=f\"{train_labels[index]}\"))\n",
    "    \n",
    "    messages.append(HumanMessage(content=f\"Classify this relation: {example}\"))\n",
    "    res = chat(messages)\n",
    "    preds.append(res.content)"
   ]
  },
  {
   "cell_type": "code",
   "execution_count": 262,
   "metadata": {},
   "outputs": [],
   "source": [
    "#role\n",
    "import random\n",
    "\n",
    "nr=\"one\"\n",
    "prompt_name = \"r2\"\n",
    "\n",
    "preds = []\n",
    "for example in examples:\n",
    "    messages = []\n",
    "    \n",
    "    messages.append(SystemMessage(content=f\"You are a great Table Annotation Specialist and your task is to classify the relationship between Column 1 and Column 2 with ONLY ONE of the following labels that are separated with comma: {labels_joined}.\"))\n",
    "\n",
    "    index = random.randint(0, len(train_examples)-1)\n",
    "    messages.append(HumanMessage(content=f\"Classify this relation: {train_examples[index]}\"))\n",
    "    messages.append(AIMessage(content=f\"{train_labels[index]}\"))\n",
    "    \n",
    "    messages.append(HumanMessage(content=f\"Classify this relation: {example}\"))\n",
    "    res = chat(messages)\n",
    "    preds.append(res.content)"
   ]
  },
  {
   "cell_type": "code",
   "execution_count": null,
   "metadata": {},
   "outputs": [],
   "source": [
    "#role + instructions\n",
    "import random \n",
    " \n",
    "nr=\"one\"\n",
    "prompt_name = \"r+i\"\n",
    "\n",
    "preds = []\n",
    "for example in examples:\n",
    "    messages = []\n",
    "\n",
    "    messages.append(SystemMessage(content=f\"You are a great Table Annotation Specialist and your task is to classify the relationship between two columns with ONLY ONE of the following labels that are separated with comma: {labels_joined}.\"))\n",
    "    messages.append(SystemMessage(content=\"Your instructions are: 1. Review the provided column values. 2. Carefully examine the values of the two columns. 3. Select a single label that best represents the relationship between these two columns. 4. Answer with your final selected label. 5. Ensure that you answer with ONLY ONE label from the provided label-set for each relation!\"))\n",
    "\n",
    "    index = random.randint(0, len(train_examples)-1)\n",
    "    messages.append(HumanMessage(content=f\"Classify this relation: {train_examples[index]}\"))\n",
    "    messages.append(AIMessage(content=f\"{train_labels[index]}\"))\n",
    "    \n",
    "    messages.append(HumanMessage(content=f\"Classify this relation: {example}\"))\n",
    "    res = chat(messages)\n",
    "    preds.append(res.content)"
   ]
  },
  {
   "cell_type": "code",
   "execution_count": null,
   "metadata": {},
   "outputs": [],
   "source": [
    "#role + instructions  P2\n",
    "import random \n",
    " \n",
    "nr=\"one\"\n",
    "prompt_name = \"r+i2\"\n",
    "\n",
    "preds = []\n",
    "for example in examples:\n",
    "    messages = []\n",
    "\n",
    "    messages.append(SystemMessage(content=f\"You are a great Table Annotation Specialist and your task is to classify the relationship between Column 1 and Column 2 with ONLY ONE of the following labels that are separated with comma: {labels_joined}.\"))\n",
    "    messages.append(SystemMessage(content=\"Your instructions are: 1. Review the provided column values. 2. Carefully examine the values of the two columns. 3. Select a single label that best represents the relationship between Column 2 with Column 1. 4. Answer with your final selected label. 5. Ensure that you answer with ONLY ONE label from the provided label-set for each relation!\"))\n",
    "\n",
    "    index = random.randint(0, len(train_examples)-1)\n",
    "    messages.append(HumanMessage(content=f\"Classify this relation: {train_examples[index]}\"))\n",
    "    messages.append(AIMessage(content=f\"{train_labels[index]}\"))\n",
    "    \n",
    "    messages.append(HumanMessage(content=f\"Classify this relation: {example}\"))\n",
    "    res = chat(messages)\n",
    "    preds.append(res.content)"
   ]
  },
  {
   "cell_type": "code",
   "execution_count": null,
   "metadata": {},
   "outputs": [],
   "source": [
    "#role + instructions + step by step\n",
    "import random\n",
    "\n",
    "nr=\"one\"\n",
    "prompt_name = \"r+i+s_b_s\"\n",
    "\n",
    "preds = []\n",
    "for example in examples:\n",
    "    messages = []\n",
    "\n",
    "    messages.append(SystemMessage(content=f\"You are a great Table Annotation Specialist and your task is to classify the relationship between two columns with ONLY ONE of the following labels that are separated with comma: {labels_joined}.\"))\n",
    "    messages.append(SystemMessage(content=\"Let's think step by step. Your instructions are: 1. Review the provided column values. 2. Carefully examine the values of the two columns. 3. Select a single label that best represents the relationship between these two columns. 4. Answer with your final selected label. 5. Ensure that you answer with ONLY ONE label from the provided label-set for each relation!\"))\n",
    "\n",
    "    index = random.randint(0, len(train_examples)-1)\n",
    "    messages.append(HumanMessage(content=f\"Classify this relation: {train_examples[index]}\"))\n",
    "    messages.append(AIMessage(content=f\"{train_labels[index]}\"))\n",
    "    \n",
    "    messages.append(HumanMessage(content=f\"Classify this relation: {example}\"))\n",
    "    res = chat(messages)\n",
    "    preds.append(res.content)"
   ]
  },
  {
   "cell_type": "code",
   "execution_count": null,
   "metadata": {},
   "outputs": [],
   "source": [
    "#role + instructions + motivation\n",
    "import random\n",
    "\n",
    "nr=\"one\"\n",
    "prompt_name = \"r+i+m\"\n",
    "\n",
    "preds = []\n",
    "for example in examples:\n",
    "    messages = []\n",
    "\n",
    "    messages.append(SystemMessage(content=f\"You are a great Table Annotation Specialist and your task is to classify the relationship between two columns with ONLY ONE of the following labels that are separated with comma: {labels_joined}.\"))\n",
    "    messages.append(SystemMessage(content=\"Your instructions are: 1. Review the provided column values. 2. Carefully examine the values of the two columns. 3. Select a single label that best represents the relationship between these two columns. 4. Answer with your final selected label. 5. Ensure that you answer with ONLY ONE label from the provided label-set for each relation!\"))\n",
    "    messages.append(SystemMessage(content=\"Your answer is very important. Take your time and think well before answering!\"))\n",
    "\n",
    "    index = random.randint(0, len(train_examples)-1)\n",
    "    messages.append(HumanMessage(content=f\"Classify this relation: {train_examples[index]}\"))\n",
    "    messages.append(AIMessage(content=f\"{train_labels[index]}\"))\n",
    "    \n",
    "    messages.append(HumanMessage(content=f\"Classify this relation: {example}\"))\n",
    "    res = chat(messages)\n",
    "    preds.append(res.content)"
   ]
  },
  {
   "cell_type": "code",
   "execution_count": null,
   "metadata": {},
   "outputs": [],
   "source": [
    "#role + instructions + CONTEXT\n",
    "import random\n",
    "\n",
    "nr=\"one\"\n",
    "prompt_name = \"r+i+c\"\n",
    "\n",
    "preds = []\n",
    "for example in examples:\n",
    "    messages = []\n",
    "    \n",
    "    messages.append(SystemMessage(content=f\"You are a great Table Annotation Specialist and your task is to classify the relationship between two columns with ONLY ONE of the following labels that are separated with comma: {labels_joined}.\"))\n",
    "    messages.append(SystemMessage(content=\"Your instructions are: 1. Review the provided column values. 2. Carefully examine the values of the two columns. 3. Select a single label that best represents the relationship between these two columns. 4. Answer with your final selected label. 5. Ensure that you answer with ONLY ONE label from the provided label-set for each relation!\"))\n",
    "    messages.append(SystemMessage(content=f\"CONTEXT: Column Property Annotation is a sub-task of Table Annotation and refers to predicting the semantic relation between two or more columns. You have the same task, you are required to annotate the relation between two given columns.\"))\n",
    "    \n",
    "    index = random.randint(0, len(train_examples)-1)\n",
    "    messages.append(HumanMessage(content=f\"Classify this relation: {train_examples[index]}\"))\n",
    "    messages.append(AIMessage(content=f\"{train_labels[index]}\"))\n",
    "    \n",
    "    messages.append(HumanMessage(content=f\"Classify this relation: {example}\"))\n",
    "    res = chat(messages)\n",
    "    preds.append(res.content)"
   ]
  },
  {
   "cell_type": "code",
   "execution_count": 10,
   "metadata": {},
   "outputs": [],
   "source": [
    "#role + instructions + CONTEXT example\n",
    "import random\n",
    "\n",
    "nr=\"one\"\n",
    "prompt_name = \"r2+i2+c.example\"\n",
    "\n",
    "preds = []\n",
    "for example in examples:\n",
    "    messages = []\n",
    "    \n",
    "    messages.append(SystemMessage(content=f\"You are a great Table Annotation Specialist and your task is to classify the relationship between Column 1 and Column 2 with ONLY ONE of the following labels that are separated with comma: {labels_joined}.\"))\n",
    "    messages.append(SystemMessage(content=\"Your instructions are: 1. Review the provided column values. 2. Carefully examine the values of the two columns. 3. Select a single label that best represents the relationship between Column 2 with Column 1. 4. Answer with your final selected label. 5. Ensure that you answer with ONLY ONE label from the provided label-set for each relation!\"))\n",
    "    messages.append(SystemMessage(content=f\"CONTEXT: Column Property Annotation is a sub-task of Table Annotation and refers to predicting the semantic relation between two or more columns. You have the same task, here is an example how you could solve a CPA task: 'Classify the relationship between these two columns: Columm1: Dog, Cat, Dog.  Column2: lis, moli, brauni.'\"\n",
    "                                  \"First we check Columm1: Dog, Cat, Dog.\"   \n",
    "                                  \"Now we check Column2: lis, moli, brauni. Analyze Column 2 in relation to Column 1. Predict the relation between Column 2 and Column 1\"\n",
    "                                  \"Answer: Column 2: pet names\"))\n",
    "    \n",
    "    index = random.randint(0, len(train_examples)-1)\n",
    "    messages.append(HumanMessage(content=f\"Classify this relation: {train_examples[index]}\"))\n",
    "    messages.append(AIMessage(content=f\"{train_labels[index]}\"))\n",
    "    \n",
    "    messages.append(HumanMessage(content=f\"Classify this relation: {example}\"))\n",
    "    res = chat(messages)\n",
    "    preds.append(res.content)"
   ]
  },
  {
   "cell_type": "code",
   "execution_count": null,
   "metadata": {},
   "outputs": [],
   "source": [
    "#role + instructions + CONTEXT test\n",
    "import random\n",
    "\n",
    "nr=\"one\"\n",
    "prompt_name = \"r2+i2+c.test\"\n",
    "\n",
    "preds = []\n",
    "for example in examples:\n",
    "    messages = []\n",
    "    \n",
    "    messages.append(SystemMessage(content=f\"You are a great Table Annotation Specialist and your task is to classify the relationship between Column 1 and Column 2 with ONLY ONE of the following labels that are separated with comma: {labels_joined}.\"))\n",
    "    messages.append(SystemMessage(content=\"Your instructions are: 1. Review the provided column values. 2. Carefully examine the values of the two columns. 3. Select a single label that best represents the relationship between Column 2 with Column 1. 4. Answer with your final selected label. 5. Ensure that you answer with ONLY ONE label from the provided label-set for each relation!\"))\n",
    "  \n",
    "    messages.append(SystemMessage(content=f\"CONTEXT: Classify this relation: {train_examples[index]}\"))\n",
    "    messages.append(AIMessage(content=f\"{train_labels[index]}\"))\n",
    "    \n",
    "    messages.append(HumanMessage(content=f\"Classify this relation: {example}\"))\n",
    "    res = chat(messages)\n",
    "    preds.append(res.content)"
   ]
  },
  {
   "cell_type": "markdown",
   "metadata": {},
   "source": [
    "FIVE-SHOT"
   ]
  },
  {
   "cell_type": "code",
   "execution_count": 23,
   "metadata": {},
   "outputs": [],
   "source": [
    "#role\n",
    "import random\n",
    "\n",
    "nr= \"five\"\n",
    "prompt_name = \"r2\"\n",
    "\n",
    "preds = []\n",
    "for example in examples:\n",
    "    messages = []\n",
    "    \n",
    "    messages.append(SystemMessage(content=f\"You are a great Table Annotation Specialist and your task is to classify the relationship between Column 1 and Column 2 with ONLY ONE of the following labels that are separated with comma: {labels_joined}.\"))\n",
    "\n",
    "    for i in range(0,5):\n",
    "        index = random.randint(0, len(train_examples)-1)\n",
    "        messages.append(HumanMessage(content=f\"Classify this relation: {train_examples[index]}\"))\n",
    "        messages.append(AIMessage(content=f\"{train_labels[index]}\"))\n",
    "    \n",
    "    messages.append(HumanMessage(content=f\"Classify this relation: {example}\"))\n",
    "    res = chat(messages)\n",
    "    preds.append(res.content)"
   ]
  },
  {
   "cell_type": "code",
   "execution_count": 41,
   "metadata": {},
   "outputs": [
    {
     "name": "stderr",
     "output_type": "stream",
     "text": [
      "Retrying langchain.chat_models.openai.ChatOpenAI.completion_with_retry.<locals>._completion_with_retry in 4.0 seconds as it raised Timeout: Request timed out: HTTPSConnectionPool(host='api.openai.com', port=443): Read timed out. (read timeout=600).\n"
     ]
    }
   ],
   "source": [
    "#role + instructions\n",
    "import random \n",
    " \n",
    "nr= \"five\"\n",
    "prompt_name = \"r2+i2\"\n",
    "\n",
    "preds = []\n",
    "for example in examples:\n",
    "    messages = []\n",
    "\n",
    "    messages.append(SystemMessage(content=f\"You are a great Table Annotation Specialist and your task is to classify the relationship between Column 1 and Column 2 with ONLY ONE of the following labels that are separated with comma: {labels_joined}.\"))\n",
    "    messages.append(SystemMessage(content=\"Your instructions are: 1. Review the provided column values. 2. Carefully examine the values of the two columns. 3. Select a single label that best represents the relationship between Column 2 with Column 1. 4. Answer with your final selected label. 5. Ensure that you answer with ONLY ONE label from the provided label-set for each relation!\"))\n",
    "    \n",
    "    for i in range(0,5):\n",
    "        index = random.randint(0, len(train_examples)-1)\n",
    "        messages.append(HumanMessage(content=f\"Classify this relation: {train_examples[index]}\"))\n",
    "        messages.append(AIMessage(content=f\"{train_labels[index]}\"))\n",
    "    \n",
    "    messages.append(HumanMessage(content=f\"Classify this relation: {example}\"))\n",
    "    res = chat(messages)\n",
    "    preds.append(res.content)"
   ]
  },
  {
   "cell_type": "code",
   "execution_count": 55,
   "metadata": {},
   "outputs": [],
   "source": [
    "#role + instructions + step by step\n",
    "import random\n",
    "\n",
    "nr= \"five\"\n",
    "prompt_name = \"r2+i2+s_b_s\"\n",
    "\n",
    "preds = []\n",
    "for example in examples:\n",
    "    messages = []\n",
    "\n",
    "    messages.append(SystemMessage(content=f\"You are a great Table Annotation Specialist and your task is to classify the relationship between Column 1 and Column 2 with ONLY ONE of the following labels that are separated with comma: {labels_joined}.\"))\n",
    "    messages.append(SystemMessage(content=\"Let's think step by step. Your instructions are: 1. Review the provided column values. 2. Carefully examine the values of the two columns. 3. Select a single label that best represents the relationship between Column 2 with Column 1. 4. Answer with your final selected label. 5. Ensure that you answer with ONLY ONE label from the provided label-set for each relation!\"))\n",
    "    \n",
    "    for i in range(0,5):\n",
    "        index = random.randint(0, len(train_examples)-1)\n",
    "        messages.append(HumanMessage(content=f\"Classify this relation: {train_examples[index]}\"))\n",
    "        messages.append(AIMessage(content=f\"{train_labels[index]}\"))\n",
    "    \n",
    "    messages.append(HumanMessage(content=f\"Classify this relation: {example}\"))\n",
    "    res = chat(messages)\n",
    "    preds.append(res.content)"
   ]
  },
  {
   "cell_type": "code",
   "execution_count": 75,
   "metadata": {},
   "outputs": [
    {
     "name": "stderr",
     "output_type": "stream",
     "text": [
      "Retrying langchain.chat_models.openai.ChatOpenAI.completion_with_retry.<locals>._completion_with_retry in 4.0 seconds as it raised Timeout: Request timed out: HTTPSConnectionPool(host='api.openai.com', port=443): Read timed out. (read timeout=600).\n"
     ]
    }
   ],
   "source": [
    "#role + instructions + motivation\n",
    "import random\n",
    "\n",
    "nr= \"five\"\n",
    "prompt_name = \"r2+i2+m\"\n",
    "\n",
    "preds = []\n",
    "for example in examples:\n",
    "    messages = []\n",
    "\n",
    "    messages.append(SystemMessage(content=f\"You are a great Table Annotation Specialist and your task is to classify the relationship between Column 1 and Column 2 with ONLY ONE of the following labels that are separated with comma: {labels_joined}.\"))\n",
    "    messages.append(SystemMessage(content=\"Your instructions are: 1. Review the provided column values. 2. Carefully examine the values of the two columns. 3. Select a single label that best represents the relationship between Column 2 with Column 1. 4. Answer with your final selected label. 5. Ensure that you answer with ONLY ONE label from the provided label-set for each relation!\"))\n",
    "    messages.append(SystemMessage(content=\"Your answer is very important. Take your time and think well before answering!\"))\n",
    "\n",
    "    for i in range(0,5):\n",
    "        index = random.randint(0, len(train_examples)-1)\n",
    "        messages.append(HumanMessage(content=f\"Classify this relation: {train_examples[index]}\"))\n",
    "        messages.append(AIMessage(content=f\"{train_labels[index]}\"))\n",
    "    \n",
    "    messages.append(HumanMessage(content=f\"Classify this relation: {example}\"))\n",
    "    res = chat(messages)\n",
    "    preds.append(res.content)"
   ]
  },
  {
   "cell_type": "code",
   "execution_count": 92,
   "metadata": {},
   "outputs": [],
   "source": [
    "#role + instructions + CONTEXT\n",
    "import random\n",
    "\n",
    "nr= \"five\"\n",
    "prompt_name = \"r2+i2+c\"\n",
    "\n",
    "preds = []\n",
    "for example in examples:\n",
    "    messages = []\n",
    "    \n",
    "    messages.append(SystemMessage(content=f\"You are a great Table Annotation Specialist and your task is to classify the relationship between Column 1 and Column 2 with ONLY ONE of the following labels that are separated with comma: {labels_joined}.\"))\n",
    "    messages.append(SystemMessage(content=\"Your instructions are: 1. Review the provided column values. 2. Carefully examine the values of the two columns. 3. Select a single label that best represents the relationship between Column 2 with Column 1. 4. Answer with your final selected label. 5. Ensure that you answer with ONLY ONE label from the provided label-set for each relation!\"))\n",
    "    messages.append(SystemMessage(content=f\"CONTEXT: Column Property Annotation is a sub-task of Table Annotation and refers to predicting the semantic relation between two or more columns. You have the same task, you are required to annotate the relation between two given columns.\"))\n",
    "    \n",
    "    for i in range(0,5):\n",
    "        index = random.randint(0, len(train_examples)-1)\n",
    "        messages.append(HumanMessage(content=f\"Classify this relation: {train_examples[index]}\"))\n",
    "        messages.append(AIMessage(content=f\"{train_labels[index]}\"))\n",
    "    \n",
    "    messages.append(HumanMessage(content=f\"Classify this relation: {example}\"))\n",
    "    res = chat(messages)\n",
    "    preds.append(res.content)"
   ]
  },
  {
   "cell_type": "code",
   "execution_count": null,
   "metadata": {},
   "outputs": [],
   "source": []
  },
  {
   "cell_type": "code",
   "execution_count": null,
   "metadata": {},
   "outputs": [],
   "source": [
    "preds"
   ]
  },
  {
   "cell_type": "code",
   "execution_count": 96,
   "metadata": {},
   "outputs": [],
   "source": [
    "file_name=f'Predictions/{model_name}/column/{nr}-shot/chat-column-{prompt_name}-{nr}-shot.pkl'\n",
    "f = open(file_name,'wb')\n",
    "pickle.dump(preds,f)\n",
    "f.close()"
   ]
  },
  {
   "cell_type": "markdown",
   "metadata": {},
   "source": [
    "## Evaluation"
   ]
  },
  {
   "cell_type": "code",
   "execution_count": null,
   "metadata": {},
   "outputs": [],
   "source": [
    "predictions = []\n",
    "for i, pred in enumerate(preds):\n",
    "    from_sent = re.findall('\"([^\"]*)\"',pred)\n",
    "    if len(from_sent) == 0:\n",
    "        if \":\" in pred:\n",
    "            pred = pred.split(':')[1]\n",
    "        if \".\" in pred:\n",
    "            pred = pred.split('.')[0]\n",
    "        pred = pred.strip()\n",
    "        \n",
    "        if pred in text_to_label:\n",
    "            predictions.append(text_to_label[pred])\n",
    "        else:\n",
    "            if any(label in pred for label in text_to_label):\n",
    "                for label in text_to_label:\n",
    "                    if label in pred:\n",
    "                        predictions.append(text_to_label[label])\n",
    "                        break\n",
    "            else:\n",
    "                print(f\"For test example {i} out of label space prediction: {pred}\")\n",
    "                predictions.append('-')\n",
    "    else:\n",
    "        if from_sent[0] in text_to_label:\n",
    "            predictions.append(text_to_label[from_sent[0]])\n",
    "        else:\n",
    "            print(f\"For test example {i} out of label space prediction: {pred}\")\n",
    "            predictions.append('-')"
   ]
  },
  {
   "cell_type": "code",
   "execution_count": null,
   "metadata": {},
   "outputs": [],
   "source": [
    "predictions"
   ]
  },
  {
   "cell_type": "markdown",
   "id": "0ebaf233",
   "metadata": {},
   "source": [
    "### Calculate Precision, Recall, Macro-F1 and Micro-F1"
   ]
  },
  {
   "cell_type": "code",
   "execution_count": 21,
   "metadata": {},
   "outputs": [],
   "source": [
    "def calculate_f1_scores(y_tests, y_preds, num_classes, types):\n",
    "\n",
    "    y_tests = [types.index(y) for y in y_tests]\n",
    "    y_preds = [types.index(y) for y in y_preds]\n",
    "    \n",
    "  \n",
    "    cm = np.zeros(shape=(num_classes,num_classes))\n",
    "    \n",
    "    for i in range(len(y_tests)):\n",
    "        cm[y_preds[i]][y_tests[i]] += 1\n",
    "        \n",
    "    report = {}\n",
    "    \n",
    "    for j in range(len(cm[0])):\n",
    "        report[j] = {}\n",
    "        report[j]['FN'] = 0\n",
    "        report[j]['FP'] = 0\n",
    "        report[j]['TP'] = cm[j][j]\n",
    "\n",
    "        for i in range(len(cm)):\n",
    "            if i != j:\n",
    "                report[j]['FN'] += cm[i][j]\n",
    "        for k in range(len(cm[0])):\n",
    "            if k != j:\n",
    "                report[j]['FP'] += cm[j][k]\n",
    "\n",
    "        precision = report[j]['TP'] / (report[j]['TP'] + report[j]['FP'])\n",
    "        recall = report[j]['TP'] / (report[j]['TP'] + report[j]['FN'])\n",
    "        f1 = 2*precision*recall / (precision + recall)\n",
    "        \n",
    "        if np.isnan(f1):\n",
    "            f1 = 0\n",
    "        if np.isnan(precision):\n",
    "            f1 = 0\n",
    "        if np.isnan(recall):\n",
    "            f1 = 0\n",
    "\n",
    "        report[j]['p'] =  precision\n",
    "        report[j]['r'] =  recall\n",
    "        report[j]['f1'] = f1\n",
    "    \n",
    "    all_fn = 0\n",
    "    all_tp = 0\n",
    "    all_fp = 0\n",
    "\n",
    "    for r in report:\n",
    "        if r != num_classes-1:\n",
    "            all_fn += report[r]['FN']\n",
    "            all_tp += report[r]['TP']\n",
    "            all_fp += report[r]['FP']\n",
    "        \n",
    "    class_f1s = [ report[class_]['f1'] for class_ in report]\n",
    "    class_p = [ 0 if np.isnan(report[class_]['p']) else report[class_]['p'] for class_ in report]\n",
    "    class_r = [ 0 if np.isnan(report[class_]['r']) else report[class_]['r'] for class_ in report]\n",
    "    macro_f1 = sum(class_f1s[:-1]) / (num_classes-1)\n",
    "    \n",
    "    p =  sum(class_p[:-1]) / (num_classes-1)\n",
    "    r =  sum(class_r[:-1]) / (num_classes-1)\n",
    "    micro_f1 = all_tp / ( all_tp + (1/2 * (all_fp + all_fn) )) \n",
    "    \n",
    "    per_class_eval = {}\n",
    "    for index, t in enumerate(types[:-1]):\n",
    "        per_class_eval[t] = {\"Precision\":class_p[index], \"Recall\": class_r[index], \"F1\": class_f1s[index]}\n",
    "    \n",
    "    evaluation = {\n",
    "        \"Micro-F1\": micro_f1,\n",
    "        \"Macro-F1\": macro_f1,\n",
    "        \"Precision\": p,\n",
    "        \"Recall\": r\n",
    "    }\n",
    "    \n",
    "    return [ evaluation, per_class_eval]\n"
   ]
  },
  {
   "cell_type": "code",
   "execution_count": null,
   "id": "2b214bd0",
   "metadata": {
    "scrolled": true
   },
   "outputs": [],
   "source": [
    "types = list(set(labels))\n",
    "types = types + [\"-\"] if \"-\" in predictions else types\n",
    "evaluation, per_class_eval = calculate_f1_scores(labels, predictions, len(types), types)"
   ]
  },
  {
   "cell_type": "code",
   "execution_count": null,
   "id": "91e6e35d",
   "metadata": {},
   "outputs": [],
   "source": [
    "evaluation"
   ]
  },
  {
   "cell_type": "code",
   "execution_count": null,
   "id": "770bbcaf",
   "metadata": {
    "scrolled": true
   },
   "outputs": [],
   "source": [
    "per_class_eval"
   ]
  },
  {
   "cell_type": "markdown",
   "id": "35074db1",
   "metadata": {},
   "source": [
    "## Error Analysis"
   ]
  },
  {
   "cell_type": "code",
   "execution_count": null,
   "id": "960b5c02",
   "metadata": {},
   "outputs": [],
   "source": [
    "errors = 0\n",
    "for i in range(len(predictions)):\n",
    "    if predictions[i] != labels[i]:\n",
    "        errors += 1\n",
    "        print(f\"Predicted as {predictions[i]} when it was {labels[i]}\")\n",
    "errors"
   ]
  },
  {
   "cell_type": "markdown",
   "id": "ddba5377",
   "metadata": {},
   "source": [
    "### Re-load previous preds files"
   ]
  },
  {
   "cell_type": "code",
   "execution_count": 110,
   "id": "b58c755c",
   "metadata": {},
   "outputs": [],
   "source": [
    "with open(f'Predictions/{model_name}/column/{nr}-shot/chat-column-{prompt_name}-{nr}-shot.pkl', \"rb\") as f:\n",
    "    preds = pickle.load(f)"
   ]
  },
  {
   "cell_type": "code",
   "execution_count": null,
   "id": "7ae1da7f",
   "metadata": {},
   "outputs": [],
   "source": [
    "preds"
   ]
  }
 ],
 "metadata": {
  "kernelspec": {
   "display_name": "Python 3 (ipykernel)",
   "language": "python",
   "name": "python3"
  },
  "language_info": {
   "codemirror_mode": {
    "name": "ipython",
    "version": 3
   },
   "file_extension": ".py",
   "mimetype": "text/x-python",
   "name": "python",
   "nbconvert_exporter": "python",
   "pygments_lexer": "ipython3",
   "version": "3.8.18"
  }
 },
 "nbformat": 4,
 "nbformat_minor": 5
}
