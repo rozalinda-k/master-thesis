{
 "cells": [
  {
   "cell_type": "code",
   "execution_count": 1,
   "id": "307f1685",
   "metadata": {},
   "outputs": [],
   "source": [
    "import os\n",
    "import re\n",
    "import pickle\n",
    "import numpy as np\n",
    "import pandas as pd\n",
    "from dotenv import dotenv_values\n",
    "from langchain import PromptTemplate, LLMChain, OpenAI\n",
    "from langchain.chat_models import ChatOpenAI\n",
    "from langchain.schema import SystemMessage, HumanMessage, AIMessage"
   ]
  },
  {
   "cell_type": "code",
   "execution_count": 2,
   "id": "b3076071",
   "metadata": {},
   "outputs": [],
   "source": [
    "config = dotenv_values(\"../.env\")\n",
    "os.environ['OPENAI_API_KEY'] = config[\"OPENAI_API_KEY\"]\n",
    "OPENAI_API_KEY = config[\"OPENAI_API_KEY\"]"
   ]
  },
  {
   "cell_type": "code",
   "execution_count": 3,
   "metadata": {},
   "outputs": [],
   "source": [
    "labels_to_text = {\n",
    "\"time.event.locations\": \"time event locations\",\n",
    "\"music.artist.album\": \"music artist album\",\n",
    "\"sports.sports_team.sport\": \"sports team\",\n",
    "\"baseball.baseball_team.league\": \"baseball team league\",\n",
    "\"tv.tv_program.country_of_origin\": \"tv program origin country\",\n",
    "\"music.album.artist\": \"music album artist\",\n",
    "\"sports.sports_team.location\": \"sports team location\",\n",
    "\"time.event.instance_of_recurring_event\": \"instance of recurring event\",\n",
    "\"aviation.airline.hubs\": \"airline hubs\",\n",
    "\"sports.sports_championship_event.champion\": \"sports championship event\",\n",
    "\"sports.sports_facility.teams\": \"sports facility teams\",\n",
    "\"baseball.baseball_player.position_s\": \"baseball player positions\",\n",
    "\"sports.sports_league.teams-sports.sports_league_participation.team\": \"sports league participation team\",\n",
    "\"tv.tv_network.programs-tv.tv_network_duration.program\": \"tv duration program\",\n",
    "\"sports.sports_league_season.league\": \"sports season league\",\n",
    "\"olympics.olympic_athlete.country-olympics.olympic_athlete_affiliation.country\": \"olympic athlete affiliation country\",\n",
    "\"american_football.football_player.position_s\": \"american football player position\",\n",
    "\"music.composer.compositions\": \"music composer compositions\",\n",
    "\"meteorology.tropical_cyclone.tropical_cyclone_season\": \"tropical cyclone season\",\n",
    "\"cvg.computer_videogame.developer\": \"cvg videogame developer\",\n",
    "\"tv.tv_character.appeared_in_tv_program-tv.regular_tv_appearance.actor\": \"tv actor appearance\",\n",
    "\"cvg.computer_videogame.publisher\": \"cvg videogame publisher\",\n",
    "\"soccer.football_player.position_s\": \"football player position\",\n",
    "\"tv.tv_program.original_network-tv.tv_network_duration.network\": \"tv duration network\",\n",
    "\"music.composition.composer\": \"music composition composer\",\n",
    "\"ice_hockey.hockey_player.hockey_position\": \"ice hockey player position\",\n",
    "\"book.author.works_written\": \"authors written books\",\n",
    "\"film.film.genre\": \"film genre\",\n",
    "\"film.film.directed_by\": \"film directed by\",\n",
    "\"film.film.produced_by\": \"film produced by\",\n",
    "\"film.film.language\": \"film language\",\n",
    "\"broadcast.broadcast.area_served\": \"broadcast area served\",\n",
    "\"award.award_category.category_of\": \"award category\",\n",
    "\"location.location.nearby_airports\": \"location of nearby airports\",\n",
    "\"location.country.official_language\": \"country official language\"\n",
    "}"
   ]
  },
  {
   "cell_type": "code",
   "execution_count": 4,
   "id": "554900cb",
   "metadata": {},
   "outputs": [],
   "source": [
    "text_to_label = {\n",
    "'time event locations': 'time.event.locations',\n",
    "'music artist album': 'music.artist.album',\n",
    "'sports team': 'sports.sports_team.sport',\n",
    "'baseball team league': 'baseball.baseball_team.league',\n",
    "'tv program origin country': 'tv.tv_program.country_of_origin',\n",
    "'music album artist': 'music.album.artist',\n",
    "'sports team location': 'sports.sports_team.location',\n",
    "'instance of recurring event': 'time.event.instance_of_recurring_event',\n",
    "'airline hubs': 'aviation.airline.hubs',\n",
    "'sports championship event': 'sports.sports_championship_event.champion',\n",
    "'sports facility teams': 'sports.sports_facility.teams',\n",
    "'baseball player positions': 'baseball.baseball_player.position_s',\n",
    "'sports league participation team': 'sports.sports_league.teams-sports.sports_league_participation.team',\n",
    "'tv duration program': 'tv.tv_network.programs-tv.tv_network_duration.program',\n",
    "'sports season league': 'sports.sports_league_season.league',\n",
    "'olympic athlete affiliation country': 'olympics.olympic_athlete.country-olympics.olympic_athlete_affiliation.country',\n",
    "'american football player position': 'american_football.football_player.position_s',\n",
    "'music composer compositions': 'music.composer.compositions',\n",
    "'tropical cyclone season': 'meteorology.tropical_cyclone.tropical_cyclone_season',\n",
    "'cvg videogame developer': 'cvg.computer_videogame.developer',\n",
    "'tv actor appearance': 'tv.tv_character.appeared_in_tv_program-tv.regular_tv_appearance.actor',\n",
    "'cvg videogame publisher': 'cvg.computer_videogame.publisher',\n",
    "'football player position': 'soccer.football_player.position_s',\n",
    "'tv duration network': 'tv.tv_program.original_network-tv.tv_network_duration.network',\n",
    "'music composition composer': 'music.composition.composer',\n",
    "'ice hockey player position': 'ice_hockey.hockey_player.hockey_position',\n",
    "'authors written books': 'book.author.works_written',\n",
    "'film genre': 'film.film.genre',\n",
    "'film directed by': 'film.film.directed_by',\n",
    "'film produced by': 'film.film.produced_by',\n",
    "'film language': 'film.film.language',\n",
    "'broadcast area served': 'broadcast.broadcast.area_served',\n",
    "'award category': 'award.award_category.category_of',\n",
    "'location of nearby airports': 'location.location.nearby_airports',\n",
    "'country official language': 'location.country.official_language'\n",
    "}"
   ]
  },
  {
   "cell_type": "code",
   "execution_count": 5,
   "metadata": {},
   "outputs": [
    {
     "name": "stdout",
     "output_type": "stream",
     "text": [
      "['time.event.locations', 'music.artist.album', 'sports.sports_team.sport', 'baseball.baseball_team.league', 'tv.tv_program.country_of_origin', 'music.album.artist', 'sports.sports_team.location', 'time.event.instance_of_recurring_event', 'aviation.airline.hubs', 'sports.sports_championship_event.champion', 'sports.sports_facility.teams', 'baseball.baseball_player.position_s', 'sports.sports_league.teams-sports.sports_league_participation.team', 'tv.tv_network.programs-tv.tv_network_duration.program', 'sports.sports_league_season.league', 'olympics.olympic_athlete.country-olympics.olympic_athlete_affiliation.country', 'american_football.football_player.position_s', 'music.composer.compositions', 'meteorology.tropical_cyclone.tropical_cyclone_season', 'cvg.computer_videogame.developer', 'tv.tv_character.appeared_in_tv_program-tv.regular_tv_appearance.actor', 'cvg.computer_videogame.publisher', 'soccer.football_player.position_s', 'tv.tv_program.original_network-tv.tv_network_duration.network', 'music.composition.composer', 'ice_hockey.hockey_player.hockey_position', 'book.author.works_written', 'film.film.genre', 'film.film.directed_by', 'film.film.produced_by', 'film.film.language', 'broadcast.broadcast.area_served', 'award.award_category.category_of', 'location.location.nearby_airports', 'location.country.official_language']\n"
     ]
    },
    {
     "data": {
      "text/plain": [
       "35"
      ]
     },
     "execution_count": 5,
     "metadata": {},
     "output_type": "execute_result"
    }
   ],
   "source": [
    "all_labels = list(labels_to_text.keys())\n",
    "print(all_labels)\n",
    "len(all_labels)"
   ]
  },
  {
   "cell_type": "markdown",
   "id": "9359aafc",
   "metadata": {},
   "source": [
    "## Load test (and training) set"
   ]
  },
  {
   "cell_type": "code",
   "execution_count": 6,
   "id": "8c7dbc80",
   "metadata": {},
   "outputs": [],
   "source": [
    "with open('wiki-cpa-train-column.pkl', \"rb\") as f:\n",
    "    train = pickle.load(f)\n",
    "with open('wiki-cpa-test-column.pkl', \"rb\") as f:\n",
    "    test = pickle.load(f)\n",
    "\n",
    "examples = [example[2] for example in test ]\n",
    "labels = [example[3] for example in test ]\n",
    "\n",
    "train_examples = [ example[2] for example in train ]\n",
    "train_labels = [ [labels_to_text[label]] for example in train for label in example[3] ]\n"
   ]
  },
  {
   "cell_type": "code",
   "execution_count": 8,
   "metadata": {},
   "outputs": [
    {
     "data": {
      "text/plain": [
       "18340"
      ]
     },
     "execution_count": 8,
     "metadata": {},
     "output_type": "execute_result"
    }
   ],
   "source": [
    "len(train)"
   ]
  },
  {
   "cell_type": "code",
   "execution_count": 9,
   "metadata": {},
   "outputs": [
    {
     "data": {
      "text/plain": [
       "535"
      ]
     },
     "execution_count": 9,
     "metadata": {},
     "output_type": "execute_result"
    }
   ],
   "source": [
    "len(test)"
   ]
  },
  {
   "cell_type": "code",
   "execution_count": 8,
   "metadata": {},
   "outputs": [
    {
     "data": {
      "text/plain": [
       "'time event locations, music artist album, sports team, baseball team league, tv program origin country, music album artist, sports team location, instance of recurring event, airline hubs, sports championship event, sports facility teams, baseball player positions, sports league participation team, tv duration program, sports season league, olympic athlete affiliation country, american football player position, music composer compositions, tropical cyclone season, cvg videogame developer, tv actor appearance, cvg videogame publisher, football player position, tv duration network, music composition composer, ice hockey player position, authors written books, film genre, film directed by, film produced by, film language, broadcast area served, award category, location of nearby airports, country official language'"
      ]
     },
     "execution_count": 8,
     "metadata": {},
     "output_type": "execute_result"
    }
   ],
   "source": [
    "labels_joined = \", \".join([labels_to_text[l] for l in labels_to_text])\n",
    "labels_joined"
   ]
  },
  {
   "cell_type": "code",
   "execution_count": 9,
   "metadata": {},
   "outputs": [],
   "source": [
    "model_name = 'gpt-3.5-turbo-1106'\n",
    "chat = ChatOpenAI(openai_api_key=OPENAI_API_KEY, temperature=0, model=model_name)   #max_tokens=4"
   ]
  },
  {
   "cell_type": "markdown",
   "id": "f825141f",
   "metadata": {},
   "source": [
    "## Choose setup: zero-shot, one-shot or five-shot"
   ]
  },
  {
   "cell_type": "markdown",
   "metadata": {},
   "source": [
    "CPA COLUMN\n"
   ]
  },
  {
   "cell_type": "markdown",
   "metadata": {},
   "source": [
    "ZERO-SHOT"
   ]
  },
  {
   "cell_type": "code",
   "execution_count": 132,
   "metadata": {},
   "outputs": [],
   "source": [
    "#role\n",
    "nr=\"zero\"\n",
    "prompt_name = \"r\"\n",
    "\n",
    "preds = []\n",
    "for example in examples:\n",
    "    messages = []\n",
    "    \n",
    "    messages.append(SystemMessage(content=f\"You are a great Table Annotation Specialist and your task is to classify the relationship between two columns with one or more of the following labels that are separated with comma: {labels_joined}.\"))\n",
    "\n",
    "    messages.append(HumanMessage(content=f\"Classify this relation: {example}\"))\n",
    "\n",
    "    res = chat(messages)\n",
    "    preds.append(res.content)"
   ]
  },
  {
   "cell_type": "code",
   "execution_count": 15,
   "metadata": {},
   "outputs": [],
   "source": [
    "#role + instructions \n",
    "nr=\"zero\"\n",
    "prompt_name = \"r+i\"\n",
    "\n",
    "preds = []\n",
    "for example in examples:\n",
    "    messages = []\n",
    "\n",
    "    messages.append(SystemMessage(content=f\"You are a great Table Annotation Specialist and your task is to classify the relationship between two columns with one or more of the following labels that are separated with comma: {labels_joined}.\"))\n",
    "    messages.append(SystemMessage(content=\"Your instructions are: 1. Review the provided column values. 2. Carefully examine the values of the two columns. 3. Select one label or more only if needed, that best represents the relationship between these two columns. 4. Answer with your final selected labels. Avoid duplicate labels when responding. Provide a single unique label, or if multiple, ensure they are distinct. 5. Ensure that you answer using only the labels from the provided label-set.\"))\n",
    "\n",
    "    messages.append(HumanMessage(content=f\"Classify this relation: {example}\"))\n",
    "    res = chat(messages)\n",
    "    preds.append(res.content)"
   ]
  },
  {
   "cell_type": "code",
   "execution_count": 143,
   "metadata": {},
   "outputs": [],
   "source": [
    "#role + instructions + step by step\n",
    "nr=\"zero\"\n",
    "prompt_name = \"r+i+s_b_s\"\n",
    "\n",
    "preds = []\n",
    "for example in examples:\n",
    "    messages = []\n",
    "\n",
    "    messages.append(SystemMessage(content=f\"You are a great Table Annotation Specialist and your task is to classify the relationship between two columns with one or more of the following labels that are separated with comma: {labels_joined}.\"))\n",
    "    messages.append(SystemMessage(content=\"Let's think step by step.\"))\n",
    "    messages.append(SystemMessage(content=\"Your instructions are: 1. Review the provided column values. 2. Carefully examine the values of the two columns. 3. Select one label or more only if needed, that best represents the relationship between these two columns. 4. Answer with your final selected labels. Avoid duplicate labels when responding. Provide a single unique label, or if multiple, ensure they are distinct. 5. Ensure that you answer using only the labels from the provided label-set.\"))\n",
    "    \n",
    "    messages.append(HumanMessage(content=f\"Classify this relation: {example}\"))\n",
    "    res = chat(messages)\n",
    "    preds.append(res.content)"
   ]
  },
  {
   "cell_type": "code",
   "execution_count": 146,
   "metadata": {},
   "outputs": [],
   "source": [
    "#role + instructions + motivation\n",
    "nr=\"zero\"\n",
    "prompt_name = \"r+i+m\"\n",
    "\n",
    "preds = []\n",
    "for example in examples:\n",
    "    messages = []\n",
    "\n",
    "    messages.append(SystemMessage(content=f\"You are a great Table Annotation Specialist and your task is to classify the relationship between two columns with one or more of the following labels that are separated with comma: {labels_joined}.\"))\n",
    "    messages.append(SystemMessage(content=\"Your instructions are: 1. Review the provided column values. 2. Carefully examine the values of the two columns. 3. Select one label or more only if needed, that best represents the relationship between these two columns. 4. Answer with your final selected labels. Avoid duplicate labels when responding. Provide a single unique label, or if multiple, ensure they are distinct. 5. Ensure that you answer using only the labels from the provided label-set.\"))\n",
    "    messages.append(SystemMessage(content=\"Your answer is very important. Take your time and think well before answering!\"))\n",
    "\n",
    "    messages.append(HumanMessage(content=f\"Classify this relation: {example}\"))\n",
    "    res = chat(messages)\n",
    "    preds.append(res.content)"
   ]
  },
  {
   "cell_type": "code",
   "execution_count": 149,
   "metadata": {},
   "outputs": [],
   "source": [
    "#role + instructions + CONTEXT\n",
    "nr=\"zero\"\n",
    "prompt_name = \"r+i+c\"\n",
    "\n",
    "preds = []\n",
    "for example in examples:\n",
    "    messages = []\n",
    "    \n",
    "    messages.append(SystemMessage(content=f\"You are a great Table Annotation Specialist and your task is to classify the relationship between two columns with one or more of the following labels that are separated with comma: {labels_joined}.\"))\n",
    "    messages.append(SystemMessage(content=\"Your instructions are: 1. Review the provided column values. 2. Carefully examine the values of the two columns. 3. Select one label or more only if needed, that best represents the relationship between these two columns. 4. Answer with your final selected labels. Avoid duplicate labels when responding. Provide a single unique label, or if multiple, ensure they are distinct. 5. Ensure that you answer using only the labels from the provided label-set.\"))\n",
    "    messages.append(SystemMessage(content=f\"CONTEXT: Column Property Annotation is a sub-task of Table Annotation and refers to predicting the semantic relation between two or more columns. You have the same task, you are required to annotate the relation between two given columns.\"))\n",
    "    \n",
    "    messages.append(HumanMessage(content=f\"Classify this relation: {example}\"))\n",
    "    res = chat(messages)\n",
    "    preds.append(res.content)"
   ]
  },
  {
   "cell_type": "code",
   "execution_count": null,
   "metadata": {},
   "outputs": [],
   "source": []
  },
  {
   "cell_type": "markdown",
   "metadata": {},
   "source": [
    "ONE-SHOT"
   ]
  },
  {
   "cell_type": "code",
   "execution_count": null,
   "metadata": {},
   "outputs": [],
   "source": [
    "#role + instructions\n",
    "import random \n",
    " \n",
    "nr=\"one\"\n",
    "prompt_name = \"r+i\"\n",
    "\n",
    "preds = []\n",
    "for example in examples:\n",
    "    messages = []\n",
    "\n",
    "    messages.append(SystemMessage(content=f\"You are a great Table Annotation Specialist and your task is to classify the relationship between two columns with one or more of the following labels that are separated with comma: {labels_joined}.\"))\n",
    "    messages.append(SystemMessage(content=\"Your instructions are: 1. Review the provided column values. 2. Carefully examine the values of the two columns. 3. Select one label or more only if needed, that best represents the relationship between these two columns. 4. Answer with your final selected labels. Avoid duplicate labels when responding. Provide a single unique label, or if multiple, ensure they are distinct. 5. Ensure that you answer using only the labels from the provided label-set.\"))\n",
    " \n",
    "    index = random.randint(0, len(train_examples)-1)\n",
    "    messages.append(HumanMessage(content=f\"Classify this relation: {train_examples[index]}\"))\n",
    "    messages.append(AIMessage(content=f\"{train_labels[index]}\"))\n",
    "    \n",
    "    messages.append(HumanMessage(content=f\"Classify this relation: {example}\"))\n",
    "    res = chat(messages)\n",
    "    preds.append(res.content)"
   ]
  },
  {
   "cell_type": "code",
   "execution_count": null,
   "metadata": {},
   "outputs": [],
   "source": [
    "#role + instructions + step by step\n",
    "import random\n",
    "\n",
    "nr=\"one\"\n",
    "prompt_name = \"r+i+s_b_s\"\n",
    "\n",
    "preds = []\n",
    "for example in examples:\n",
    "    messages = []\n",
    "\n",
    "    messages.append(SystemMessage(content=f\"You are a great Table Annotation Specialist and your task is to classify the relationship between two columns with one or more of the following labels that are separated with comma: {labels_joined}.\"))\n",
    "    messages.append(SystemMessage(content=\"Let's think step by step.\"))\n",
    "    messages.append(SystemMessage(content=\"Your instructions are: 1. Review the provided column values. 2. Carefully examine the values of the two columns. 3. Select one label or more only if needed, that best represents the relationship between these two columns. 4. Answer with your final selected labels. Avoid duplicate labels when responding. Provide a single unique label, or if multiple, ensure they are distinct. 5. Ensure that you answer using only the labels from the provided label-set.\"))\n",
    "\n",
    "    index = random.randint(0, len(train_examples)-1)\n",
    "    messages.append(HumanMessage(content=f\"Classify this relation: {train_examples[index]}\"))\n",
    "    messages.append(AIMessage(content=f\"{train_labels[index]}\"))\n",
    "    \n",
    "    messages.append(HumanMessage(content=f\"Classify this relation: {example}\"))\n",
    "    res = chat(messages)\n",
    "    preds.append(res.content)"
   ]
  },
  {
   "cell_type": "code",
   "execution_count": 138,
   "metadata": {},
   "outputs": [],
   "source": [
    "#role + instructions + motivation\n",
    "import random\n",
    "\n",
    "nr=\"one\"\n",
    "prompt_name = \"r+i+m\"\n",
    "\n",
    "preds = []\n",
    "for example in examples:\n",
    "    messages = []\n",
    "\n",
    "    messages.append(SystemMessage(content=f\"You are a great Table Annotation Specialist and your task is to classify the relationship between two columns with one or more of the following labels that are separated with comma: {labels_joined}.\"))\n",
    "    messages.append(SystemMessage(content=\"Your instructions are: 1. Review the provided column values. 2. Carefully examine the values of the two columns. 3. Select one label or more only if needed, that best represents the relationship between these two columns. 4. Answer with your final selected labels. Avoid duplicate labels when responding. Provide a single unique label, or if multiple, ensure they are distinct. 5. Ensure that you answer using only the labels from the provided label-set.\"))\n",
    "    messages.append(SystemMessage(content=\"Your answer is very important. Take your time and think well before answering!\"))\n",
    "\n",
    "\n",
    "    index = random.randint(0, len(train_examples)-1)\n",
    "    messages.append(HumanMessage(content=f\"Classify this relation: {train_examples[index]}\"))\n",
    "    messages.append(AIMessage(content=f\"{train_labels[index]}\"))\n",
    "    \n",
    "    messages.append(HumanMessage(content=f\"Classify this relation: {example}\"))\n",
    "    res = chat(messages)\n",
    "    preds.append(res.content)"
   ]
  },
  {
   "cell_type": "code",
   "execution_count": null,
   "metadata": {},
   "outputs": [],
   "source": [
    "#role + instructions + CONTEXT\n",
    "import random\n",
    "\n",
    "nr=\"one\"\n",
    "prompt_name = \"r+i+c\"\n",
    "\n",
    "preds = []\n",
    "for example in examples:\n",
    "    messages = []\n",
    "\n",
    "    messages.append(SystemMessage(content=f\"You are a great Table Annotation Specialist and your task is to classify the relationship between two columns with one or more of the following labels that are separated with comma: {labels_joined}.\"))\n",
    "    messages.append(SystemMessage(content=\"Your instructions are: 1. Review the provided column values. 2. Carefully examine the values of the two columns. 3. Select one label or more only if needed, that best represents the relationship between these two columns. 4. Answer with your final selected labels. Avoid duplicate labels when responding. Provide a single unique label, or if multiple, ensure they are distinct. 5. Ensure that you answer using only the labels from the provided label-set.\"))\n",
    "    messages.append(SystemMessage(content=f\"CONTEXT: Column Property Annotation is a sub-task of Table Annotation and refers to predicting the semantic relation between two or more columns. You have the same task, you are required to annotate the relation between two given columns.\"))\n",
    "    \n",
    "    index = random.randint(0, len(train_examples)-1)\n",
    "    messages.append(HumanMessage(content=f\"Classify this relation: {train_examples[index]}\"))\n",
    "    messages.append(AIMessage(content=f\"{train_labels[index]}\"))\n",
    "    \n",
    "    messages.append(HumanMessage(content=f\"Classify this relation: {example}\"))\n",
    "    res = chat(messages)\n",
    "    preds.append(res.content)"
   ]
  },
  {
   "cell_type": "code",
   "execution_count": null,
   "metadata": {},
   "outputs": [],
   "source": [
    "#role + instructions + CONTEXT example\n",
    "import random\n",
    "\n",
    "nr=\"one\"\n",
    "prompt_name = \"r+i+c.example\"\n",
    "\n",
    "preds = []\n",
    "for example in examples:\n",
    "    messages = []\n",
    "    \n",
    "    messages.append(SystemMessage(content=f\"You are a great Table Annotation Specialist and your task is to classify the relationship between two columns with one or more of the following labels that are separated with comma: {labels_joined}.\"))\n",
    "    messages.append(SystemMessage(content=\"Your instructions are: 1. Review the provided column values. 2. Carefully examine the values of the two columns. 3. Select one label or more only if needed, that best represents the relationship between these two columns. 4. Answer with your final selected labels. Avoid duplicate labels when responding. Provide a single unique label, or if multiple, ensure they are distinct. 5. Ensure that you answer using only the labels from the provided label-set.\"))\n",
    " \n",
    "    messages.append(SystemMessage(content=f\"CONTEXT: Column Property Annotation is a sub-task of Table Annotation and refers to predicting the semantic relation between two or more columns. You have the same task, here is an example how you could solve a CPA task: 'Classify the relationship between these two columns: Columm1: Dog, Cat, Dog.  Column2: lis, moli, brauni.'\"\n",
    "                                  \"First we check Columm1: Dog, Cat, Dog.\"   \n",
    "                                  \"Now we check Column2: lis, moli, brauni. Analyze Column 2 in relation to Column 1. Predict the relation between Column 2 and Column 1\"\n",
    "                                  \"Answer: Column 2: animal name, pet name\"))\n",
    "    \n",
    "    index = random.randint(0, len(train_examples)-1)\n",
    "    messages.append(HumanMessage(content=f\"Classify this relation: {train_examples[index]}\"))\n",
    "    messages.append(AIMessage(content=f\"{train_labels[index]}\"))\n",
    "    \n",
    "    messages.append(HumanMessage(content=f\"Classify this relation: {example}\"))\n",
    "    res = chat(messages)\n",
    "    preds.append(res.content)"
   ]
  },
  {
   "cell_type": "code",
   "execution_count": null,
   "metadata": {},
   "outputs": [],
   "source": []
  },
  {
   "cell_type": "markdown",
   "metadata": {},
   "source": [
    "FIVE-SHOT"
   ]
  },
  {
   "cell_type": "code",
   "execution_count": 149,
   "metadata": {},
   "outputs": [],
   "source": [
    "#role + instructions\n",
    "import random \n",
    " \n",
    "nr= \"five\"\n",
    "prompt_name = \"r+i\"\n",
    "\n",
    "preds = []\n",
    "for example in examples:\n",
    "    messages = []\n",
    "\n",
    "    messages.append(SystemMessage(content=f\"You are a great Table Annotation Specialist and your task is to classify the relationship between two columns with one or more of the following labels that are separated with comma: {labels_joined}.\"))\n",
    "    messages.append(SystemMessage(content=\"Your instructions are: 1. Review the provided column values. 2. Carefully examine the values of the two columns. 3. Select one label or more only if needed, that best represents the relationship between these two columns. 4. Answer with your final selected labels. Avoid duplicate labels when responding. Provide a single unique label, or if multiple, ensure they are distinct. 5. Ensure that you answer using only the labels from the provided label-set.\"))\n",
    "\n",
    "\n",
    "    for i in range(0,5):\n",
    "        index = random.randint(0, len(train_examples)-1)\n",
    "        messages.append(HumanMessage(content=f\"Classify this relation: {train_examples[index]}\"))\n",
    "        messages.append(AIMessage(content=f\"{train_labels[index]}\"))\n",
    "    \n",
    "    messages.append(HumanMessage(content=f\"Classify this relation: {example}\"))\n",
    "    res = chat(messages)\n",
    "    preds.append(res.content)"
   ]
  },
  {
   "cell_type": "code",
   "execution_count": null,
   "metadata": {},
   "outputs": [],
   "source": [
    "#role + instructions + step by step\n",
    "import random\n",
    "\n",
    "nr= \"five\"\n",
    "prompt_name = \"r+i+s_b_s\"\n",
    "\n",
    "preds = []\n",
    "for example in examples:\n",
    "    messages = []\n",
    "\n",
    "    messages.append(SystemMessage(content=f\"You are a great Table Annotation Specialist and your task is to classify the relationship between two columns with one or more of the following labels that are separated with comma: {labels_joined}.\"))\n",
    "    messages.append(SystemMessage(content=\"Let's think step by step.\"))\n",
    "    messages.append(SystemMessage(content=\"Your instructions are: 1. Review the provided column values. 2. Carefully examine the values of the two columns. 3. Select one label or more only if needed, that best represents the relationship between these two columns. 4. Answer with your final selected labels. Avoid duplicate labels when responding. Provide a single unique label, or if multiple, ensure they are distinct. 5. Ensure that you answer using only the labels from the provided label-set.\"))\n",
    "\n",
    "    \n",
    "    for i in range(0,5):\n",
    "        index = random.randint(0, len(train_examples)-1)\n",
    "        messages.append(HumanMessage(content=f\"Classify this relation: {train_examples[index]}\"))\n",
    "        messages.append(AIMessage(content=f\"{train_labels[index]}\"))\n",
    "    \n",
    "    messages.append(HumanMessage(content=f\"Classify this relation: {example}\"))\n",
    "    res = chat(messages)\n",
    "    preds.append(res.content)"
   ]
  },
  {
   "cell_type": "code",
   "execution_count": 164,
   "metadata": {},
   "outputs": [],
   "source": [
    "#role + instructions + motivation\n",
    "import random\n",
    "\n",
    "nr= \"five\"\n",
    "prompt_name = \"r+i+m\"\n",
    "\n",
    "preds = []\n",
    "for example in examples:\n",
    "    messages = []\n",
    "\n",
    "    messages.append(SystemMessage(content=f\"You are a great Table Annotation Specialist and your task is to classify the relationship between two columns with one or more of the following labels that are separated with comma: {labels_joined}.\"))\n",
    "    messages.append(SystemMessage(content=\"Your instructions are: 1. Review the provided column values. 2. Carefully examine the values of the two columns. 3. Select one label or more only if needed, that best represents the relationship between these two columns. 4. Answer with your final selected labels. Avoid duplicate labels when responding. Provide a single unique label, or if multiple, ensure they are distinct. 5. Ensure that you answer using only the labels from the provided label-set.\"))\n",
    "    messages.append(SystemMessage(content=\"Your answer is very important. Take your time and think well before answering!\"))\n",
    "\n",
    "\n",
    "    for i in range(0,5):\n",
    "        index = random.randint(0, len(train_examples)-1)\n",
    "        messages.append(HumanMessage(content=f\"Classify this relation: {train_examples[index]}\"))\n",
    "        messages.append(AIMessage(content=f\"{train_labels[index]}\"))\n",
    "    \n",
    "    messages.append(HumanMessage(content=f\"Classify this relation: {example}\"))\n",
    "    res = chat(messages)\n",
    "    preds.append(res.content)"
   ]
  },
  {
   "cell_type": "code",
   "execution_count": null,
   "metadata": {},
   "outputs": [],
   "source": [
    "#role + instructions + CONTEXT\n",
    "import random\n",
    "\n",
    "nr= \"five\"\n",
    "prompt_name = \"r+i+c\"\n",
    "\n",
    "preds = []\n",
    "for example in examples:\n",
    "    messages = []\n",
    "    \n",
    "    messages.append(SystemMessage(content=f\"You are a great Table Annotation Specialist and your task is to classify the relationship between two columns with one or more of the following labels that are separated with comma: {labels_joined}.\"))\n",
    "    messages.append(SystemMessage(content=\"Your instructions are: 1. Review the provided column values. 2. Carefully examine the values of the two columns. 3. Select one label or more only if needed, that best represents the relationship between these two columns. 4. Answer with your final selected labels. Avoid duplicate labels when responding. Provide a single unique label, or if multiple, ensure they are distinct. 5. Ensure that you answer using only the labels from the provided label-set.\"))\n",
    "    messages.append(SystemMessage(content=f\"CONTEXT: Column Property Annotation is a sub-task of Table Annotation and refers to predicting the semantic relation between two or more columns. You have the same task, you are required to annotate the relation between two given columns.\"))\n",
    "    \n",
    "    for i in range(0,5):\n",
    "        index = random.randint(0, len(train_examples)-1)\n",
    "        messages.append(HumanMessage(content=f\"Classify this relation: {train_examples[index]}\"))\n",
    "        messages.append(AIMessage(content=f\"{train_labels[index]}\"))\n",
    "    \n",
    "    messages.append(HumanMessage(content=f\"Classify this relation: {example}\"))\n",
    "    res = chat(messages)\n",
    "    preds.append(res.content)"
   ]
  },
  {
   "cell_type": "code",
   "execution_count": null,
   "metadata": {},
   "outputs": [],
   "source": []
  },
  {
   "cell_type": "code",
   "execution_count": null,
   "metadata": {},
   "outputs": [],
   "source": [
    "preds"
   ]
  },
  {
   "cell_type": "code",
   "execution_count": 167,
   "metadata": {},
   "outputs": [],
   "source": [
    "file_name=f'Predictions/{model_name}/column/{nr}-shot/chat-column-{prompt_name}-{nr}-shot.pkl'\n",
    "f = open(file_name,'wb')\n",
    "pickle.dump(preds,f)\n",
    "f.close()"
   ]
  },
  {
   "cell_type": "markdown",
   "id": "4cd98cab",
   "metadata": {},
   "source": [
    "## Evaluation"
   ]
  },
  {
   "cell_type": "code",
   "execution_count": null,
   "metadata": {},
   "outputs": [],
   "source": [
    "predictions = []\n",
    "i = 0\n",
    "\n",
    "for j, pred in enumerate(preds):\n",
    "    from_sent = re.findall('\"([^\"]*)\"', pred)\n",
    "\n",
    "    if len(from_sent) == 0:\n",
    "        if \":\" in pred:\n",
    "            pred = pred.split(':')[1]\n",
    "        if \".\" in pred:\n",
    "            pred = pred.split('.')[0]\n",
    "        pred = pred.strip().lower()\n",
    "\n",
    "        column_predictions = []\n",
    "\n",
    "        if \",\" in pred:\n",
    "            separator = \",\"\n",
    "\n",
    "            multilabels = pred.split(separator)\n",
    "\n",
    "            for multi in multilabels:\n",
    "                if \"\\n\" in multi:\n",
    "                    multi = multi.split('\\n')[0].strip()\n",
    "                if \",\" in multi:\n",
    "                    multi = multi.split(\",\")[0].strip()\n",
    "                if '(' in multi:\n",
    "                    multi = multi.split(\"(\")[0].strip()\n",
    "                if '.' in multi:\n",
    "                    multi = multi.split(\".\")[0].strip()\n",
    "                multi = multi.strip().lower()\n",
    "\n",
    "                if multi in text_to_label:\n",
    "                    column_predictions.append(text_to_label[multi])\n",
    "                else:\n",
    "                    print(f\"For test example {i} out of label space prediction: {multi}\")\n",
    "                    column_predictions.append('-')\n",
    "        else:\n",
    "            if pred in text_to_label:\n",
    "                column_predictions.append(text_to_label[pred])\n",
    "            else:\n",
    "                if any(label in pred for label in text_to_label):\n",
    "                    for label in text_to_label:\n",
    "                        if label in pred:\n",
    "                            column_predictions.append(text_to_label[label])\n",
    "                            break\n",
    "                else:\n",
    "                    print(f\"For test example {i} out of label space prediction: {pred}\")\n",
    "                    column_predictions.append('-')\n",
    "\n",
    "        predictions.append(column_predictions)\n",
    "\n",
    "    else:\n",
    "        if from_sent[0].lower() in text_to_label:\n",
    "            predictions.append(text_to_label[from_sent[0].lower()])\n",
    "        else:\n",
    "            print(f\"For test example {i} out of label space prediction: {pred}\")\n",
    "            predictions.append('-')\n",
    "            \n",
    "    i += 1"
   ]
  },
  {
   "cell_type": "code",
   "execution_count": null,
   "metadata": {},
   "outputs": [],
   "source": [
    "predictions"
   ]
  },
  {
   "cell_type": "markdown",
   "id": "0ebaf233",
   "metadata": {},
   "source": [
    "### Calculate Precision, Recall, Macro-F1 and Micro-F1"
   ]
  },
  {
   "cell_type": "code",
   "execution_count": 172,
   "metadata": {},
   "outputs": [],
   "source": [
    "def calculate_f1_scores(y_tests, y_preds, num_classes, types):\n",
    "    y_tests = [[types.index(l) for l in y] for y in y_tests]\n",
    "    y_preds = [[types.index(l) if l in types and l != -1 else num_classes - 1  for l in y] for y in y_preds]\n",
    "  \n",
    "    cm = np.zeros(shape=(num_classes, num_classes))\n",
    "\n",
    "    for i, labels in enumerate(y_tests):\n",
    "        for label in labels:\n",
    "            if label not in y_preds[i]:\n",
    "                cm[-1][label] += 1  # FN\n",
    "            else:\n",
    "                cm[label][label] += 1  # TP\n",
    "\n",
    "    for i, labels in enumerate(y_preds):\n",
    "        for label in labels:\n",
    "            if label not in y_tests[i]:\n",
    "                cm[label][-1] += 1  # FP\n",
    "\n",
    "    report = {}\n",
    "\n",
    "    for j in range(len(cm[0])):\n",
    "        report[j] = {}\n",
    "        report[j]['FN'] = 0\n",
    "        report[j]['FP'] = 0\n",
    "        report[j]['TP'] = cm[j][j]\n",
    "\n",
    "        for i in range(len(cm)):\n",
    "            if i != j:\n",
    "                report[j]['FN'] += cm[i][j]\n",
    "        for k in range(len(cm[0])):\n",
    "            if k != j:\n",
    "                report[j]['FP'] += cm[j][k]\n",
    "\n",
    "        precision = report[j]['TP'] / (report[j]['TP'] + report[j]['FP'])\n",
    "        recall = report[j]['TP'] / (report[j]['TP'] + report[j]['FN'])\n",
    "        f1 = 2 * precision * recall / (precision + recall)\n",
    "\n",
    "        if np.isnan(f1):\n",
    "            f1 = 0\n",
    "        if np.isnan(precision):\n",
    "            precision = 0\n",
    "        if np.isnan(recall):\n",
    "            recall = 0\n",
    "\n",
    "        report[j]['p'] = precision\n",
    "        report[j]['r'] = recall\n",
    "        report[j]['f1'] = f1\n",
    "\n",
    "    all_fn = 0\n",
    "    all_tp = 0\n",
    "    all_fp = 0\n",
    "\n",
    "    for r in report:\n",
    "        if r != num_classes - 1:\n",
    "            all_fn += report[r]['FN']\n",
    "            all_tp += report[r]['TP']\n",
    "            all_fp += report[r]['FP']\n",
    "\n",
    "    class_f1s = [report[class_]['f1'] for class_ in report]\n",
    "    class_p = [report[class_]['p'] for class_ in report]\n",
    "    class_r = [report[class_]['r'] for class_ in report]\n",
    "    macro_f1 = sum(class_f1s[:-1]) / (num_classes - 1)\n",
    "\n",
    "    p = sum(class_p[:-1]) / (num_classes - 1)\n",
    "    r = sum(class_r[:-1]) / (num_classes - 1)\n",
    "    micro_f1 = all_tp / (all_tp + (1 / 2 * (all_fp + all_fn)))\n",
    "\n",
    "    per_class_eval = {}\n",
    "    for index, t in enumerate(types[:-1]):\n",
    "        per_class_eval[t] = {\"Precision\": class_p[index], \"Recall\": class_r[index], \"F1\": class_f1s[index]}\n",
    "\n",
    "    evaluation = {\n",
    "        \"Micro-F1\": micro_f1,\n",
    "        \"Macro-F1\": macro_f1,\n",
    "        \"Precision\": p,\n",
    "        \"Recall\": r\n",
    "    }\n",
    "\n",
    "    return [evaluation, per_class_eval]\n"
   ]
  },
  {
   "cell_type": "code",
   "execution_count": null,
   "metadata": {},
   "outputs": [],
   "source": [
    "list_set_labels = list(labels_to_text.keys())\n",
    "types = list_set_labels\n",
    "types = types + [\"-\"] if \"-\" in predictions else types\n",
    "evaluation, per_class_eval = calculate_f1_scores(labels, predictions, len(types), types)"
   ]
  },
  {
   "cell_type": "code",
   "execution_count": null,
   "id": "91e6e35d",
   "metadata": {},
   "outputs": [],
   "source": [
    "evaluation"
   ]
  },
  {
   "cell_type": "code",
   "execution_count": null,
   "id": "770bbcaf",
   "metadata": {
    "scrolled": true
   },
   "outputs": [],
   "source": [
    "per_class_eval"
   ]
  },
  {
   "cell_type": "markdown",
   "id": "35074db1",
   "metadata": {},
   "source": [
    "## Error Analysis"
   ]
  },
  {
   "cell_type": "code",
   "execution_count": null,
   "metadata": {},
   "outputs": [],
   "source": [
    "errors = 0\n",
    "for i in range(len(predictions)):\n",
    "    label_set = set(labels[i]) \n",
    "    \n",
    "    prediction_set = set(predictions[i])\n",
    "    \n",
    "    if len(list(label_set-prediction_set) + list(prediction_set-label_set)) != 0:\n",
    "        for y in label_set:\n",
    "            if y not in prediction_set:\n",
    "                errors +=1\n",
    "        print(f\"Predicted as {predictions[i]} when it was {label_set}\")\n",
    "errors"
   ]
  },
  {
   "cell_type": "markdown",
   "id": "ddba5377",
   "metadata": {},
   "source": [
    "### Re-load previous preds files"
   ]
  },
  {
   "cell_type": "code",
   "execution_count": null,
   "id": "b58c755c",
   "metadata": {},
   "outputs": [],
   "source": [
    "with open(f'Predictions/{model_name}/column/{nr}-shot/chat-column-{prompt_name}-{nr}-shot.pkl', \"rb\") as f:\n",
    "    preds = pickle.load(f)"
   ]
  },
  {
   "cell_type": "code",
   "execution_count": null,
   "id": "7ae1da7f",
   "metadata": {},
   "outputs": [],
   "source": [
    "preds"
   ]
  }
 ],
 "metadata": {
  "kernelspec": {
   "display_name": "Python 3 (ipykernel)",
   "language": "python",
   "name": "python3"
  },
  "language_info": {
   "codemirror_mode": {
    "name": "ipython",
    "version": 3
   },
   "file_extension": ".py",
   "mimetype": "text/x-python",
   "name": "python",
   "nbconvert_exporter": "python",
   "pygments_lexer": "ipython3",
   "version": "3.8.18"
  }
 },
 "nbformat": 4,
 "nbformat_minor": 5
}
