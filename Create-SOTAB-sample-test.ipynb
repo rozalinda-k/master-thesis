{
 "cells": [
  {
   "cell_type": "code",
   "execution_count": 55,
   "metadata": {},
   "outputs": [],
   "source": [
    "import pandas as pd\n",
    "import numpy as np"
   ]
  },
  {
   "cell_type": "code",
   "execution_count": 84,
   "metadata": {},
   "outputs": [],
   "source": [
    "test = pd.read_csv('SOTAB CTA/sotab_v2_cta_test_set.csv')"
   ]
  },
  {
   "cell_type": "code",
   "execution_count": null,
   "metadata": {},
   "outputs": [],
   "source": [
    "grouped_by_table = test.groupby([\"table_name\"])[\"label\"].apply(','.join).reset_index()\n",
    "grouped_by_table"
   ]
  },
  {
   "cell_type": "code",
   "execution_count": 86,
   "metadata": {},
   "outputs": [],
   "source": [
    "X = grouped_by_table[[\"table_name\"]].values\n",
    "y = np.zeros(shape=(len(grouped_by_table[\"table_name\"].tolist()), len(test[\"label\"].unique())))\n",
    "for index, row in grouped_by_table.iterrows():\n",
    "    table_labels = row[\"label\"].split(',')\n",
    "    count = 0\n",
    "    \n",
    "    for label in test[\"label\"].unique():\n",
    "        if label in table_labels:\n",
    "            y[index][count] = 1\n",
    "        else:\n",
    "            y[index][count] = 0\n",
    "        count += 1"
   ]
  },
  {
   "cell_type": "code",
   "execution_count": 5,
   "metadata": {},
   "outputs": [],
   "source": [
    "# ! pip install scikit-learn\n",
    "# ! pip install scikit-multilearn"
   ]
  },
  {
   "cell_type": "code",
   "execution_count": 154,
   "metadata": {},
   "outputs": [
    {
     "name": "stdout",
     "output_type": "stream",
     "text": [
      "Training set length: 499, Testing set length: 110\n"
     ]
    }
   ],
   "source": [
    "from collections import Counter\n",
    "from skmultilearn.model_selection import iterative_train_test_split\n",
    "from skmultilearn.model_selection.measures import get_combination_wise_output_matrix\n",
    "\n",
    "X_train, y_train, X_test, y_test = iterative_train_test_split(X, y, test_size = 0.15)\n",
    "print('Training set length: '+str(len(X_train)) +', Testing set length: '+ str(len(X_test)))"
   ]
  },
  {
   "cell_type": "code",
   "execution_count": 155,
   "metadata": {},
   "outputs": [
    {
     "data": {
      "text/html": [
       "<div>\n",
       "<style scoped>\n",
       "    .dataframe tbody tr th:only-of-type {\n",
       "        vertical-align: middle;\n",
       "    }\n",
       "\n",
       "    .dataframe tbody tr th {\n",
       "        vertical-align: top;\n",
       "    }\n",
       "\n",
       "    .dataframe thead th {\n",
       "        text-align: right;\n",
       "    }\n",
       "</style>\n",
       "<table border=\"1\" class=\"dataframe\">\n",
       "  <thead>\n",
       "    <tr style=\"text-align: right;\">\n",
       "      <th></th>\n",
       "      <th>(1,)</th>\n",
       "      <th>(44,)</th>\n",
       "      <th>(2,)</th>\n",
       "      <th>(54,)</th>\n",
       "      <th>(27,)</th>\n",
       "      <th>(17,)</th>\n",
       "      <th>(28,)</th>\n",
       "      <th>(81,)</th>\n",
       "      <th>(9,)</th>\n",
       "      <th>(0,)</th>\n",
       "      <th>...</th>\n",
       "      <th>(68,)</th>\n",
       "      <th>(59,)</th>\n",
       "      <th>(40,)</th>\n",
       "      <th>(39,)</th>\n",
       "      <th>(38,)</th>\n",
       "      <th>(60,)</th>\n",
       "      <th>(62,)</th>\n",
       "      <th>(61,)</th>\n",
       "      <th>(79,)</th>\n",
       "      <th>(63,)</th>\n",
       "    </tr>\n",
       "  </thead>\n",
       "  <tbody>\n",
       "    <tr>\n",
       "      <th>train</th>\n",
       "      <td>26</td>\n",
       "      <td>18</td>\n",
       "      <td>53</td>\n",
       "      <td>24</td>\n",
       "      <td>19</td>\n",
       "      <td>26</td>\n",
       "      <td>18</td>\n",
       "      <td>10</td>\n",
       "      <td>38</td>\n",
       "      <td>37</td>\n",
       "      <td>...</td>\n",
       "      <td>9</td>\n",
       "      <td>8</td>\n",
       "      <td>4</td>\n",
       "      <td>10</td>\n",
       "      <td>8</td>\n",
       "      <td>17</td>\n",
       "      <td>9</td>\n",
       "      <td>6</td>\n",
       "      <td>8</td>\n",
       "      <td>8</td>\n",
       "    </tr>\n",
       "    <tr>\n",
       "      <th>test</th>\n",
       "      <td>6</td>\n",
       "      <td>5</td>\n",
       "      <td>9</td>\n",
       "      <td>4</td>\n",
       "      <td>5</td>\n",
       "      <td>5</td>\n",
       "      <td>3</td>\n",
       "      <td>1</td>\n",
       "      <td>6</td>\n",
       "      <td>6</td>\n",
       "      <td>...</td>\n",
       "      <td>2</td>\n",
       "      <td>2</td>\n",
       "      <td>1</td>\n",
       "      <td>2</td>\n",
       "      <td>3</td>\n",
       "      <td>4</td>\n",
       "      <td>2</td>\n",
       "      <td>1</td>\n",
       "      <td>2</td>\n",
       "      <td>2</td>\n",
       "    </tr>\n",
       "  </tbody>\n",
       "</table>\n",
       "<p>2 rows × 82 columns</p>\n",
       "</div>"
      ],
      "text/plain": [
       "       (1,)  (44,)  (2,)  (54,)  (27,)  (17,)  (28,)  (81,)  (9,)  (0,)  ...  \\\n",
       "train    26     18    53     24     19     26     18     10    38    37  ...   \n",
       "test      6      5     9      4      5      5      3      1     6     6  ...   \n",
       "\n",
       "       (68,)  (59,)  (40,)  (39,)  (38,)  (60,)  (62,)  (61,)  (79,)  (63,)  \n",
       "train      9      8      4     10      8     17      9      6      8      8  \n",
       "test       2      2      1      2      3      4      2      1      2      2  \n",
       "\n",
       "[2 rows x 82 columns]"
      ]
     },
     "execution_count": 155,
     "metadata": {},
     "output_type": "execute_result"
    }
   ],
   "source": [
    "p = pd.DataFrame({\n",
    "    'train': Counter(str(combination) for row in get_combination_wise_output_matrix(y_train, order=1) for combination in row),\n",
    "    'test' : Counter(str(combination) for row in get_combination_wise_output_matrix(y_test, order=1) for combination in row)\n",
    "}).T.fillna(0.0)\n",
    "p"
   ]
  },
  {
   "cell_type": "code",
   "execution_count": 156,
   "metadata": {},
   "outputs": [],
   "source": [
    "sample_testing_tables = [ table[0] for table in X_test ]"
   ]
  },
  {
   "cell_type": "code",
   "execution_count": null,
   "metadata": {},
   "outputs": [],
   "source": [
    "test_set = test[test[\"table_name\"].isin(sample_testing_tables)]\n",
    "test_set"
   ]
  },
  {
   "cell_type": "code",
   "execution_count": 159,
   "metadata": {},
   "outputs": [],
   "source": [
    "test_set.to_csv('SOTAB CTA/sample_test.csv', index=False)"
   ]
  }
 ],
 "metadata": {
  "kernelspec": {
   "display_name": "Python 3 (ipykernel)",
   "language": "python",
   "name": "python3"
  },
  "language_info": {
   "codemirror_mode": {
    "name": "ipython",
    "version": 3
   },
   "file_extension": ".py",
   "mimetype": "text/x-python",
   "name": "python",
   "nbconvert_exporter": "python",
   "pygments_lexer": "ipython3",
   "version": "3.8.18"
  }
 },
 "nbformat": 4,
 "nbformat_minor": 2
}
