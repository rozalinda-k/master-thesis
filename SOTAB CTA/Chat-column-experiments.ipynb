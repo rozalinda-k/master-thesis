{
 "cells": [
  {
   "cell_type": "code",
   "execution_count": 1,
   "id": "307f1685",
   "metadata": {},
   "outputs": [],
   "source": [
    "import os\n",
    "import re\n",
    "import pickle\n",
    "import numpy as np\n",
    "import pandas as pd\n",
    "from dotenv import dotenv_values\n",
    "from langchain import PromptTemplate, LLMChain, OpenAI\n",
    "from langchain.chat_models import ChatOpenAI\n",
    "from langchain.schema import SystemMessage, HumanMessage, AIMessage"
   ]
  },
  {
   "cell_type": "code",
   "execution_count": 2,
   "id": "b3076071",
   "metadata": {},
   "outputs": [],
   "source": [
    "config = dotenv_values(\"../.env\")\n",
    "os.environ['OPENAI_API_KEY'] = config[\"OPENAI_API_KEY\"]\n",
    "OPENAI_API_KEY = config[\"OPENAI_API_KEY\"]"
   ]
  },
  {
   "cell_type": "code",
   "execution_count": 3,
   "id": "45ed42dd",
   "metadata": {},
   "outputs": [],
   "source": [
    "labels_to_text = {\n",
    "    \"Date\": \"date\",\n",
    "    \"Book/name\": \"name of book\",\n",
    "    \"Language\": \"language\",\n",
    "    \"Person/name\": \"name of person\",\n",
    "    \"BookFormatType\": \"book format type\",\n",
    "    \"OfferItemCondition\": \"offer item condition\",\n",
    "    \"ItemAvailability\": \"item availability\",\n",
    "    \"price\": \"price\",\n",
    "    \"currency\": \"currency\",\n",
    "    \"Review\": \"review\",\n",
    "    \"Number\": \"number\",\n",
    "    \"IdentifierAT\": \"identifier\",\n",
    "    \"URL\": \"url\",\n",
    "    \"Place/name\": \"name of place\",\n",
    "    \"Event/name\": \"name of event\",\n",
    "    \"EventStatusType\": \"event status\",\n",
    "    \"EventAttendanceModeEnumeration\": \"event attendance mode\",\n",
    "    \"telephone\": \"telephone\",\n",
    "    \"email\": \"email\",\n",
    "    \"category\": \"category\",\n",
    "    \"Duration\": \"duration\",\n",
    "    \"streetAddress\": \"street address\",\n",
    "    \"addressLocality\": \"locality of address\",\n",
    "    \"LocalBusiness/name\": \"name of local business\",\n",
    "    \"priceRange\": \"price range\",\n",
    "    \"openingHours\": \"opening hours\",\n",
    "    \"faxNumber\": \"fax number\",\n",
    "    \"Country\": \"country\",\n",
    "    \"postalCode\": \"postal code\",\n",
    "    \"addressRegion\": \"region of address\",\n",
    "    \"Photograph\": \"photograph\",\n",
    "    \"Movie/name\": \"name of movie\",\n",
    "    \"Rating\": \"rating\",\n",
    "    \"MusicArtistAT\": \"music artist\",\n",
    "    \"MusicAlbum/name\": \"name of music album\",\n",
    "    \"MusicRecording/name\": \"name of music recording\",\n",
    "    \"weight\": \"weight\",\n",
    "    \"GenderType\": \"gender type\",\n",
    "    \"Product/name\": \"name of product\",\n",
    "    \"DeliveryMethod\": \"delivery method\",\n",
    "    \"Organization\": \"organization\",\n",
    "    \"Book/description\": \"description of book\",\n",
    "    \"CreativeWork\": \"creative work\",\n",
    "    \"Boolean\": \"boolean\",\n",
    "    \"DateTime\": \"date and time\",\n",
    "    \"CreativeWork/name\": \"name of creative work\",\n",
    "    \"Event/description\": \"description of event\",\n",
    "    \"PostalAddress\": \"postal address\",\n",
    "    \"Time\": \"time\",\n",
    "    \"Hotel/name\": \"name of hotel\",\n",
    "    \"CoordinateAT\": \"coordinate\",\n",
    "    \"Hotel/description\": \"description of hotel\",\n",
    "    \"LocationFeatureSpecification\": \"location feature\",\n",
    "    \"paymentAccepted\": \"payment accepted\",\n",
    "    \"Brand\": \"brand\",\n",
    "    \"MonetaryAmount\": \"monetary amount\",\n",
    "    \"JobPosting/name\": \"name of job posting\",\n",
    "    \"OccupationalExperienceRequirements\": \"occupational experience requirements\",\n",
    "    \"EducationalOccupationalCredential\": \"educational occupational credential\",\n",
    "    \"workHours\": \"work hours\",\n",
    "    \"CategoryCode\": \"category code\",\n",
    "    \"JobPosting/description\": \"description of job posting\",\n",
    "    \"DayOfWeek\": \"day of week\",\n",
    "    \"Movie/description\": \"description of movie\",\n",
    "    \"Museum/name\": \"name of museum\",\n",
    "    \"ItemList\": \"item list\",\n",
    "    \"Distance\": \"distance\",\n",
    "    \"unitCode\": \"unit code\",\n",
    "    \"ProductModel\": \"product model\",\n",
    "    \"unitText\": \"unit text\",\n",
    "    \"QuantitativeValue\": \"quantitative value\",\n",
    "    \"Product/description\": \"description of product\",\n",
    "    \"Recipe/name\": \"name of recipe\",\n",
    "    \"Mass\": \"mass\",\n",
    "    \"Energy\": \"energy\",\n",
    "    \"RestrictedDiet\": \"restricted diet\",\n",
    "    \"Recipe/description\": \"description of recipe\",\n",
    "    \"Restaurant/name\": \"name of restaurant\",\n",
    "    \"SportsEvent/name\": \"name of sports event\",\n",
    "    \"SportsTeam\": \"sports team\",\n",
    "    \"TVEpisode/name\": \"name of TV episode\",\n",
    "    \"CreativeWorkSeries\": \"creative work series\"\n",
    "}"
   ]
  },
  {
   "cell_type": "code",
   "execution_count": 5,
   "id": "47c58fb8",
   "metadata": {},
   "outputs": [
    {
     "data": {
      "text/plain": [
       "82"
      ]
     },
     "execution_count": 5,
     "metadata": {},
     "output_type": "execute_result"
    }
   ],
   "source": [
    "len(labels_to_text)"
   ]
  },
  {
   "cell_type": "code",
   "execution_count": 4,
   "id": "51f7f356",
   "metadata": {},
   "outputs": [],
   "source": [
    "text_to_label = {\n",
    "    \"date\": \"Date\",\n",
    "    \"name of book\": \"Book/name\",\n",
    "    \"language\": \"Language\",\n",
    "    \"name of person\": \"Person/name\",\n",
    "    \"book format type\": \"BookFormatType\",\n",
    "    \"offer item condition\": \"OfferItemCondition\",\n",
    "    \"item availability\": \"ItemAvailability\",\n",
    "    \"price\": \"price\",\n",
    "    \"currency\": \"currency\",\n",
    "    \"review\": \"Review\",\n",
    "    \"number\": \"Number\",\n",
    "    \"identifier\": \"IdentifierAT\",\n",
    "    \"url\": \"URL\",\n",
    "    \"name of place\": \"Place/name\",\n",
    "    \"name of event\": \"Event/name\",\n",
    "    \"event status\": \"EventStatusType\",\n",
    "    \"event attendance mode\": \"EventAttendanceModeEnumeration\",\n",
    "    \"telephone\": \"telephone\",\n",
    "    \"email\": \"email\",\n",
    "    \"category\": \"category\",\n",
    "    \"duration\": \"Duration\",\n",
    "    \"street address\": \"streetAddress\",\n",
    "    \"locality of address\": \"addressLocality\",\n",
    "    \"name of local business\": \"LocalBusiness/name\",\n",
    "    \"price range\": \"priceRange\",\n",
    "    \"opening hours\": \"openingHours\",\n",
    "    \"fax number\": \"faxNumber\",\n",
    "    \"country\": \"Country\",\n",
    "    \"postal code\": \"postalCode\",\n",
    "    \"region of address\": \"addressRegion\",\n",
    "    \"photograph\": \"Photograph\",\n",
    "    \"name of movie\": \"Movie/name\",\n",
    "    \"rating\": \"Rating\",\n",
    "    \"music artist\": \"MusicArtistAT\",\n",
    "    \"name of music album\": \"MusicAlbum/name\",\n",
    "    \"name of music recording\": \"MusicRecording/name\",\n",
    "    \"weight\": \"weight\",\n",
    "    \"gender type\": \"GenderType\",\n",
    "    \"name of product\": \"Product/name\",\n",
    "    \"delivery method\": \"DeliveryMethod\",\n",
    "    \"organization\": \"Organization\",\n",
    "    \"description of book\": \"Book/description\",\n",
    "    \"creative work\": \"CreativeWork\",\n",
    "    \"boolean\": \"Boolean\",\n",
    "    \"date and time\": \"DateTime\",\n",
    "    \"name of creative work\": \"CreativeWork/name\",\n",
    "    \"description of event\": \"Event/description\",\n",
    "    \"postal address\": \"PostalAddress\",\n",
    "    \"time\": \"Time\",\n",
    "    \"name of hotel\": \"Hotel/name\",\n",
    "    \"coordinate\": \"CoordinateAT\",\n",
    "    \"description of hotel\": \"Hotel/description\",\n",
    "    \"location feature\": \"LocationFeatureSpecification\",\n",
    "    \"payment accepted\": \"paymentAccepted\",\n",
    "    \"brand\": \"Brand\",\n",
    "    \"monetary amount\": \"MonetaryAmount\",\n",
    "    \"name of job posting\": \"JobPosting/name\",\n",
    "    \"occupational experience requirements\": \"OccupationalExperienceRequirements\",\n",
    "    \"educational occupational credential\": \"EducationalOccupationalCredential\",\n",
    "    \"work hours\": \"workHours\",\n",
    "    \"category code\": \"CategoryCode\",\n",
    "    \"description of job posting\": \"JobPosting/description\",\n",
    "    \"day of week\": \"DayOfWeek\",\n",
    "    \"description of movie\": \"Movie/description\",\n",
    "    \"name of museum\": \"Museum/name\",\n",
    "    \"item list\": \"ItemList\",\n",
    "    \"distance\": \"Distance\",\n",
    "    \"unit code\": \"unitCode\",\n",
    "    \"product model\": \"ProductModel\",\n",
    "    \"unit text\": \"unitText\",\n",
    "    \"quantitative value\": \"QuantitativeValue\",\n",
    "    \"description of product\": \"Product/description\",\n",
    "    \"name of recipe\": \"Recipe/name\",\n",
    "    \"mass\": \"Mass\",\n",
    "    \"energy\": \"Energy\",\n",
    "    \"restricted diet\": \"RestrictedDiet\",\n",
    "    \"description of recipe\": \"Recipe/description\",\n",
    "    \"name of restaurant\": \"Restaurant/name\",\n",
    "    \"name of sports event\": \"SportsEvent/name\",\n",
    "    \"sports team\": \"SportsTeam\",\n",
    "    \"name of TV episode\": \"TVEpisode/name\",\n",
    "    \"creative work series\": \"CreativeWorkSeries\"\n",
    "}"
   ]
  },
  {
   "cell_type": "markdown",
   "id": "9359aafc",
   "metadata": {},
   "source": [
    "## Load test (and training) set"
   ]
  },
  {
   "cell_type": "code",
   "execution_count": 5,
   "id": "8c7dbc80",
   "metadata": {},
   "outputs": [],
   "source": [
    "with open('sotabv2-cta-train-column.pkl', \"rb\") as f:\n",
    "    train = pickle.load(f)\n",
    "with open('sotabv2-cta-sample-test-column.pkl', \"rb\") as f:\n",
    "    test = pickle.load(f)\n",
    "\n",
    "examples = [example[2] for example in test ]\n",
    "labels = [example[3] for example in test ]\n",
    "\n",
    "train_examples = [ example[2] for example in train ]\n",
    "train_labels = [ labels_to_text[example[3]] for example in train ]"
   ]
  },
  {
   "cell_type": "code",
   "execution_count": 8,
   "metadata": {},
   "outputs": [
    {
     "data": {
      "text/plain": [
       "116887"
      ]
     },
     "execution_count": 8,
     "metadata": {},
     "output_type": "execute_result"
    }
   ],
   "source": [
    "len(train)"
   ]
  },
  {
   "cell_type": "code",
   "execution_count": 9,
   "metadata": {},
   "outputs": [
    {
     "data": {
      "text/plain": [
       "318"
      ]
     },
     "execution_count": 9,
     "metadata": {},
     "output_type": "execute_result"
    }
   ],
   "source": [
    "len(test)"
   ]
  },
  {
   "cell_type": "code",
   "execution_count": 6,
   "metadata": {},
   "outputs": [
    {
     "data": {
      "text/plain": [
       "'name of music recording, rating, payment accepted, name of event, duration, date and time, description of recipe, quantitative value, offer item condition, country, energy, postal address, coordinate, opening hours, name of job posting, product model, url, photograph, description of movie, description of product, creative work, category code, name of hotel, sports team, music artist, street address, name of restaurant, event attendance mode, price range, number, weight, language, description of event, day of week, location feature, gender type, name of place, book format type, occupational experience requirements, event status, creative work series, boolean, unit code, name of local business, name of person, name of creative work, organization, review, region of address, restricted diet, mass, name of TV episode, distance, fax number, name of product, name of music album, item list, monetary amount, time, name of movie, date, description of book, item availability, educational occupational credential, name of museum, name of sports event, name of recipe, price, work hours, telephone, postal code, description of job posting, delivery method, unit text, description of hotel, email, locality of address, currency, brand, identifier, name of book, category'"
      ]
     },
     "execution_count": 6,
     "metadata": {},
     "output_type": "execute_result"
    }
   ],
   "source": [
    "labels_joined = \", \".join([labels_to_text[label] for label in list(set(labels))])\n",
    "labels_joined"
   ]
  },
  {
   "cell_type": "code",
   "execution_count": 7,
   "id": "33fb96ec",
   "metadata": {},
   "outputs": [],
   "source": [
    "#model_name = 'gpt-3.5-turbo-0301'\n",
    "model_name = 'gpt-3.5-turbo-1106'\n",
    "chat = ChatOpenAI(openai_api_key=OPENAI_API_KEY, temperature=0, model=model_name, max_tokens=4)"
   ]
  },
  {
   "cell_type": "markdown",
   "id": "f825141f",
   "metadata": {},
   "source": [
    "## Choose setup: zero-shot, one-shot or five-shot"
   ]
  },
  {
   "cell_type": "markdown",
   "metadata": {},
   "source": [
    "CTA COLUMN"
   ]
  },
  {
   "cell_type": "markdown",
   "metadata": {},
   "source": [
    "ZERO-SHOT"
   ]
  },
  {
   "cell_type": "code",
   "execution_count": 103,
   "metadata": {},
   "outputs": [],
   "source": [
    "#   role\n",
    "nr=\"zero\"\n",
    "prompt_name = \"role\"\n",
    "\n",
    "preds = []\n",
    "for example in examples:\n",
    "    messages = []\n",
    "    \n",
    "    #run 1\n",
    "    #messages.append(SystemMessage(content=f\"You are a world-class data engineer and your task is to annotate a given column with only one of the following labels that are separated with comma: {labels_joined}.\"))\n",
    "    #run 2\n",
    "    messages.append(SystemMessage(content=f\"You are a world-class data engineer and your task is to annotate a given column with only one of the following labels that are separated with comma: {labels_joined}. Answer only with labels from the provided label set!\"))\n",
    "    \n",
    "    messages.append(HumanMessage(content=f\"Classify this column: {example}\"))\n",
    "    res = chat(messages)\n",
    "    preds.append(res.content)"
   ]
  },
  {
   "cell_type": "code",
   "execution_count": 142,
   "metadata": {},
   "outputs": [],
   "source": [
    "#   role  p3\n",
    "nr=\"zero\"\n",
    "prompt_name = \"role3\"\n",
    "\n",
    "preds = []\n",
    "for example in examples:\n",
    "    messages = []\n",
    "    \n",
    "    messages.append(SystemMessage(content=f\"You are a great data scientist. The best at what you do and your task is to annotate a given column with only one of the following labels that are separated with comma: {labels_joined}. Answer only with labels from the provided label set!\"))\n",
    "    #messages.append(SystemMessage(content=f\"Your task is to annotate a given column with only one of the following labels that are separated with comma: {labels_joined}. Answer only with labels from the provided label set!\"))\n",
    "    \n",
    "    messages.append(HumanMessage(content=f\"Classify this column: {example}\"))\n",
    "    res = chat(messages)\n",
    "    preds.append(res.content)"
   ]
  },
  {
   "cell_type": "code",
   "execution_count": 122,
   "id": "665de05e",
   "metadata": {
    "scrolled": true
   },
   "outputs": [],
   "source": [
    "#   role + instructions \n",
    "nr=\"zero\"\n",
    "prompt_name = \"r+i\"\n",
    "\n",
    "preds = []\n",
    "for example in examples:\n",
    "    messages = []\n",
    "\n",
    "    messages.append(SystemMessage(content=f\"You are a world-class data engineer and your task is to annotate a given column with only one of the following labels that are separated with comma: {labels_joined}.\"))\n",
    "    messages.append(SystemMessage(content=\"Your instructions are: 1. Look at the column and the labels given to you. 2. Examine the values of the column. 3. Select a label that best represents the meaning of the column. 4. Answer only with labels from the provided label set!\"))\n",
    "\n",
    "    messages.append(HumanMessage(content=f\"Classify this column: {example}\"))\n",
    "    \n",
    "    res = chat(messages)\n",
    "    preds.append(res.content)"
   ]
  },
  {
   "cell_type": "code",
   "execution_count": 84,
   "metadata": {},
   "outputs": [],
   "source": [
    "#   role + instructions P2\n",
    "nr=\"zero\"\n",
    "prompt_name = \"r+i2\"\n",
    "\n",
    "preds = []\n",
    "for example in examples:\n",
    "    messages = []\n",
    "\n",
    "    messages.append(SystemMessage(content=f\"You are a world-class data engineer and your task is to annotate a given column with only one of the following labels that are separated with comma: {labels_joined}.\"))\n",
    "    messages.append(SystemMessage(content=\"Your instructions are: 1. Look at the column and the labels given to you. 2. Examine the values of the column. 3. Select a label that best represents the meaning of the column. 4. Answer only with labels from the provided label set!\"))\n",
    "\n",
    "    messages.append(HumanMessage(content=f\"Classify this column: {example}. Provide the annotation in the format: Label1, Label2, Label3\"))\n",
    "    \n",
    "    res = chat(messages)\n",
    "    preds.append(res.content)"
   ]
  },
  {
   "cell_type": "code",
   "execution_count": null,
   "metadata": {},
   "outputs": [],
   "source": [
    "#   role + instructions P3\n",
    "nr=\"zero\"\n",
    "prompt_name = \"r+i3\"\n",
    "\n",
    "preds = []\n",
    "for example in examples:\n",
    "    messages = []\n",
    "\n",
    "    messages.append(SystemMessage(content=f\"You are a world-class data engineer and your task is to annotate a given column with ONLY one of the following labels that are separated with comma: {labels_joined}.\"))\n",
    "    messages.append(SystemMessage(content= \"Your instructions for annotating the column are as follows: \\n\"\n",
    "                                            f\"1. Examine the column and review the given labels: {labels_joined}. \\n\"\n",
    "                                            \"2. Analyze the values within the column. \\n\"\n",
    "                                            \"3. Choose the label that best represents the meaning of the column. \\n\"\n",
    "                                            f\"4. Respond using only labels from the provided set: {labels_joined}. Ensure that your answer contains ONLY labels from the set and no additional text or characters.\"))\n",
    "\n",
    "    \n",
    "    messages.append(HumanMessage(content=f\"Classify this column: {example}\"))\n",
    "    \n",
    "    res = chat(messages)\n",
    "    preds.append(res.content)"
   ]
  },
  {
   "cell_type": "code",
   "execution_count": null,
   "metadata": {},
   "outputs": [],
   "source": [
    "#role + instructions P3\n",
    "nr=\"zero\"\n",
    "prompt_name = \"r3+i3\"\n",
    "\n",
    "preds = []\n",
    "for example in examples:\n",
    "    messages = []\n",
    "\n",
    "    messages.append(SystemMessage(content=f\"You are a great data scientist. The best at what you do and your task is to annotate a given column with only one of the following labels that are separated with comma: {labels_joined}. Answer only with labels from the provided label set!\"))\n",
    "    messages.append(SystemMessage(content= \"Your instructions for annotating the column are as follows: \\n\"\n",
    "                                            f\"1. Examine the column and review the given labels: {labels_joined}. \\n\"\n",
    "                                            \"2. Analyze the values within the column. \\n\"\n",
    "                                            \"3. Choose the label that best represents the meaning of the column. \\n\"\n",
    "                                            f\"4. Respond using only labels from the provided set: {labels_joined}. Ensure that your answer contains ONLY labels from the set and no additional text or characters.\"))\n",
    "\n",
    "    \n",
    "    messages.append(HumanMessage(content=f\"Classify this column: {example}\"))\n",
    "    \n",
    "    res = chat(messages)\n",
    "    preds.append(res.content)"
   ]
  },
  {
   "cell_type": "code",
   "execution_count": 15,
   "metadata": {},
   "outputs": [],
   "source": [
    "#  role + step by step \n",
    "nr=\"zero\"\n",
    "prompt_name = \"r+s_b_s\"\n",
    "\n",
    "preds = []\n",
    "for example in examples:\n",
    "    messages = []\n",
    "\n",
    "    messages.append(SystemMessage(content=f\"You are a world-class data engineer and your task is to annotate a given column with ONLY one of the following labels that are separated with comma: {labels_joined}.\"))\n",
    "    messages.append(SystemMessage(content=\"Let's think step by step.\"))\n",
    "    \n",
    "    messages.append(HumanMessage(content=f\"Classify this column: {example}\"))\n",
    "    \n",
    "    res = chat(messages)\n",
    "    preds.append(res.content)"
   ]
  },
  {
   "cell_type": "code",
   "execution_count": 42,
   "metadata": {},
   "outputs": [],
   "source": [
    "#  + role + closing phrase(motivate)\n",
    "nr=\"zero\"\n",
    "prompt_name = \"r+m\"\n",
    "\n",
    "preds = []\n",
    "for example in examples:\n",
    "    messages = []\n",
    "\n",
    "    messages.append(SystemMessage(content=f\"You are a world-class data engineer and your task is to annotate a given column with ONLY one of the following labels that are separated with comma: {labels_joined}.\"))\n",
    "    messages.append(HumanMessage(content=\"Your answer is very important. Take your time and think well before answering!\"))\n",
    "    \n",
    "    messages.append(HumanMessage(content=f\"Classify this column: {example}\"))\n",
    "    \n",
    "    res = chat(messages)\n",
    "    preds.append(res.content)"
   ]
  },
  {
   "cell_type": "code",
   "execution_count": null,
   "metadata": {},
   "outputs": [],
   "source": [
    "#role + instructions + context\n",
    "nr=\"zero\"\n",
    "prompt_name = \"r+i+c\"\n",
    "\n",
    "preds = []\n",
    "for example in examples:\n",
    "    messages = []\n",
    "\n",
    "    messages.append(SystemMessage(content=f\"You are a world-class data engineer and your task is to annotate a given column with ONLY one of the following labels that are separated with comma: {labels_joined}.\"))\n",
    "    messages.append(SystemMessage(content= \"Your instructions for annotating the column are as follows: \\n\"\n",
    "                                            f\"1. Examine the column and review the given labels: {labels_joined}. \\n\"\n",
    "                                            \"2. Analyze the values within the column. \\n\"\n",
    "                                            \"3. Choose the label that best represents the meaning of the column. \\n\"\n",
    "                                            f\"4. Respond using only labels from the provided set: {labels_joined}. Ensure that your answer contains ONLY labels from the set and no additional text or characters.\"))\n",
    "    \n",
    "    messages.append(SystemMessage(content=f\"CONTEXT: Column Type Annotation is a sub-task of Table Annotation and involves categorizing each column of a table based on its content.  Your task is the same, to analyze and then predict the column type with one of the provided labels from the label-set!\")) \n",
    "    \n",
    "    messages.append(HumanMessage(content=f\"Classify this column: {example}\"))\n",
    "    res = chat(messages)\n",
    "    preds.append(res.content)"
   ]
  },
  {
   "cell_type": "code",
   "execution_count": null,
   "metadata": {},
   "outputs": [],
   "source": [
    "#role + instructions + context\n",
    "nr=\"zero\"\n",
    "prompt_name = \"r+i+cH\"\n",
    "\n",
    "preds = []\n",
    "for example in examples:\n",
    "    messages = []\n",
    "\n",
    "    messages.append(SystemMessage(content=f\"You are a world-class data engineer and your task is to annotate a given column with ONLY one of the following labels that are separated with comma: {labels_joined}.\"))\n",
    "    messages.append(SystemMessage(content= \"Your instructions for annotating the column are as follows: \\n\"\n",
    "                                            f\"1. Examine the column and review the given labels: {labels_joined}. \\n\"\n",
    "                                            \"2. Analyze the values within the column. \\n\"\n",
    "                                            \"3. Choose the label that best represents the meaning of the column. \\n\"\n",
    "                                            f\"4. Respond using only labels from the provided set: {labels_joined}. Ensure that your answer contains ONLY labels from the set and no additional text or characters.\"))\n",
    "    \n",
    "    messages.append(HumanMessage(content=f\"CONTEXT: Column Type Annotation is a sub-task of Table Annotation and involves categorizing each column of a table based on its content.  Your task is the same, to analyze and then predict the column type with one of the provided labels from the label-set!\")) \n",
    "    \n",
    "    messages.append(HumanMessage(content=f\"Classify this column: {example}\"))\n",
    "    res = chat(messages)\n",
    "    preds.append(res.content)"
   ]
  },
  {
   "cell_type": "code",
   "execution_count": null,
   "metadata": {},
   "outputs": [],
   "source": [
    "#role + instructions + context\n",
    "nr=\"zero\"\n",
    "prompt_name = \"r+i+c2\"\n",
    "\n",
    "preds = []\n",
    "for example in examples:\n",
    "    messages = []\n",
    "\n",
    "    messages.append(SystemMessage(content=f\"You are a great data scientist. The best at what you do and your task is to annotate a given column with only one of the following labels that are separated with comma: {labels_joined}. Answer only with labels from the provided label set!\"))\n",
    "    messages.append(SystemMessage(content= \"Your instructions for annotating the column are as follows: \\n\"\n",
    "                                            f\"1. Examine the column and review the given labels: {labels_joined}. \\n\"\n",
    "                                            \"2. Analyze the values within the column. \\n\"\n",
    "                                            \"3. Choose the label that best represents the meaning of the column. \\n\"\n",
    "                                            f\"4. Respond using only labels from the provided set: {labels_joined}. Ensure that your answer contains ONLY labels from the set and no additional text or characters.\"))\n",
    "    \n",
    "    messages.append(HumanMessage(content=f\"CONTEXT: Column Type Annotation is a sub-task of Table Annotation and involves categorizing each column of a table based on its content.  Your task is the same, to analyze and then predict the column type with one of the provided labels from the label-set!\")) \n",
    "    \n",
    "    messages.append(HumanMessage(content=f\"Classify this column: {example}\"))\n",
    "    res = chat(messages)\n",
    "    preds.append(res.content)"
   ]
  },
  {
   "cell_type": "code",
   "execution_count": null,
   "metadata": {},
   "outputs": [],
   "source": [
    "#role + instructions + context\n",
    "nr=\"zero\"\n",
    "prompt_name = \"r+i+c2.1\"\n",
    "\n",
    "preds = []\n",
    "for example in examples:\n",
    "    messages = []\n",
    "\n",
    "    messages.append(SystemMessage(content=f\"You are a great data scientist. The best at what you do and your task is to annotate a given column with only one of the following labels that are separated with comma: {labels_joined}. Answer only with labels from the provided label set!\"))\n",
    "    messages.append(SystemMessage(content= \"Your instructions for annotating the column are as follows: \\n\"\n",
    "                                            f\"1. Examine the column and review the given labels: {labels_joined}. \\n\"\n",
    "                                            \"2. Analyze the values within the column. \\n\"\n",
    "                                            \"3. Choose the label that best represents the meaning of the column. \\n\"\n",
    "                                            f\"4. Respond using only labels from the provided set: {labels_joined}. Ensure that your answer contains ONLY labels from the set and no additional text or characters.\"))\n",
    "    \n",
    "    messages.append(SystemMessage(content=f\"CONTEXT: Column Type Annotation is a sub-task of Table Annotation and involves categorizing each column of a table based on its content.  Your task is the same, to analyze and then predict the column type with one of the provided labels from the label-set!\")) \n",
    "    \n",
    "    messages.append(HumanMessage(content=f\"Classify this column: {example}\"))\n",
    "    res = chat(messages)\n",
    "    preds.append(res.content)"
   ]
  },
  {
   "cell_type": "markdown",
   "metadata": {},
   "source": [
    "ONE-SHOT"
   ]
  },
  {
   "cell_type": "code",
   "execution_count": 117,
   "metadata": {},
   "outputs": [],
   "source": [
    "import random\n",
    "#  role\n",
    "\n",
    "nr=\"one\"\n",
    "prompt_name = \"r\"\n",
    "\n",
    "preds = []\n",
    "for example in examples:\n",
    "    messages = []\n",
    "    \n",
    "    messages.append(SystemMessage(content=f\"You are a world-class data engineer and your task is to annotate a given column with only one of the following labels that are separated with comma: {labels_joined}. Answer only with labels from the provided label set!\"))\n",
    "    \n",
    "  \n",
    "    index = random.randint(0, len(train_examples)-1)\n",
    "    messages.append(HumanMessage(content=f\"Classify this column: {train_examples[index]}\"))\n",
    "    messages.append(AIMessage(content=f\"{train_labels[index]}\"))\n",
    "    \n",
    "    messages.append(HumanMessage(content=f\"Classify this column: {example}\"))\n",
    "    res = chat(messages)\n",
    "    preds.append(res.content)"
   ]
  },
  {
   "cell_type": "code",
   "execution_count": null,
   "metadata": {},
   "outputs": [],
   "source": [
    "import random\n",
    "#One-shot column + instructions + roles\n",
    "\n",
    "nr=\"one\"\n",
    "prompt_name = \"r+i\"\n",
    "\n",
    "preds = []\n",
    "for example in examples:\n",
    "    messages = []\n",
    "    \n",
    "    messages.append(SystemMessage(content=f\"Your task is to classify a given column with only one of the following types that are separated with comma: {labels_joined}.\"))    \n",
    "    messages.append(SystemMessage(content= \"Your instructions for annotating the column are as follows: \\n\"\n",
    "                                            f\"1. Examine the column and review the given labels: {labels_joined}. \\n\"\n",
    "                                            \"2. Analyze the values within the column. \\n\"\n",
    "                                            \"3. Choose the label that best represents the meaning of the column. \\n\"\n",
    "                                            f\"4. Respond using only labels from the provided set: {labels_joined}. Ensure that your answer contains ONLY labels from the set and no additional text or characters.\"))\n",
    "\n",
    " \n",
    "    index = random.randint(0, len(train_examples)-1)\n",
    "    messages.append(HumanMessage(content=f\"Classify this column: {train_examples[index]}\"))\n",
    "    messages.append(AIMessage(content=f\"{train_labels[index]}\"))\n",
    "    \n",
    "    messages.append(HumanMessage(content=f\"Classify this column: {example}\"))\n",
    "    res = chat(messages)\n",
    "    preds.append(res.content)"
   ]
  },
  {
   "cell_type": "code",
   "execution_count": null,
   "id": "0696427e",
   "metadata": {
    "scrolled": true
   },
   "outputs": [],
   "source": [
    "import random\n",
    "#One-shot column  instructions p2\n",
    "\n",
    "nr=\"one\"\n",
    "prompt_name = \"r+i2\"\n",
    "\n",
    "preds = []\n",
    "for example in examples:\n",
    "    messages = []\n",
    "    \n",
    "\n",
    "    messages.append(SystemMessage(content=f\"Your task is to classify a given column with only one of the following labels that are separated with comma: {labels_joined}.\"))    \n",
    "    messages.append(SystemMessage(content=\"Your instructions are: 1. Look at the column and the types given to you. 2. Examine the values of the column. 3. Select a type that best represents the meaning of the column. 4. Answer only with labels from the provided label set!\"))\n",
    "\n",
    "   \n",
    "    index = random.randint(0, len(train_examples)-1)\n",
    "    messages.append(HumanMessage(content=f\"Classify this column: {train_examples[index]}\"))\n",
    "    messages.append(AIMessage(content=f\"{train_labels[index]}\"))\n",
    "    \n",
    "    messages.append(HumanMessage(content=f\"Classify this column: {example}\"))\n",
    "    res = chat(messages)\n",
    "    preds.append(res.content)"
   ]
  },
  {
   "cell_type": "code",
   "execution_count": 163,
   "metadata": {},
   "outputs": [],
   "source": [
    "import random\n",
    "#  role + closing phrase(motivate)\n",
    "\n",
    "nr=\"one\"\n",
    "prompt_name = \"r+m\"\n",
    "\n",
    "preds = []\n",
    "for example in examples:\n",
    "    messages = []\n",
    "\n",
    "    messages.append(SystemMessage(content=f\"You are a world-class data engineer and your task is to annotate a given column with ONLY one of the following labels that are separated with comma: {labels_joined}.\"))\n",
    "    messages.append(HumanMessage(content=\"Your answer is very important. Take your time and think well before answering!\"))\n",
    "    \n",
    "  \n",
    "    index = random.randint(0, len(train_examples)-1)\n",
    "    messages.append(HumanMessage(content=f\"Classify this column: {train_examples[index]}\"))\n",
    "    messages.append(AIMessage(content=f\"{train_labels[index]}\"))\n",
    "    \n",
    "    messages.append(HumanMessage(content=f\"Classify this column: {example}\"))\n",
    "    res = chat(messages)\n",
    "    preds.append(res.content)"
   ]
  },
  {
   "cell_type": "code",
   "execution_count": null,
   "metadata": {},
   "outputs": [],
   "source": [
    "#role + instructions + context\n",
    "import random \n",
    "\n",
    "nr=\"one\"\n",
    "prompt_name = \"r+i+c\"\n",
    "\n",
    "preds = []\n",
    "for example in examples:\n",
    "    messages = []\n",
    "\n",
    "    messages.append(SystemMessage(content=f\"You are a world-class data engineer and your task is to annotate a given column with ONLY one of the following labels that are separated with comma: {labels_joined}.\"))\n",
    "    messages.append(SystemMessage(content= \"Your instructions for annotating the column are as follows: \\n\"\n",
    "                                            f\"1. Examine the column and review the given labels: {labels_joined}. \\n\"\n",
    "                                            \"2. Analyze the values within the column. \\n\"\n",
    "                                            \"3. Choose the label that best represents the meaning of the column. \\n\"\n",
    "                                            f\"4. Respond using only labels from the provided set: {labels_joined}. Ensure that your answer contains ONLY labels from the set and no additional text or characters.\"))\n",
    "    \n",
    "    messages.append(SystemMessage(content=f\"CONTEXT: Column Type Annotation is a sub-task of Table Annotation and involves categorizing each column of a table based on its content.  Your task is the same, to analyze and then predict the column type with one of the provided labels from the label-set!\")) \n",
    "    \n",
    "    index = random.randint(0, len(train_examples)-1)\n",
    "    messages.append(HumanMessage(content=f\"Classify this column: {train_examples[index]}\"))\n",
    "    messages.append(AIMessage(content=f\"{train_labels[index]}\"))\n",
    "    \n",
    "    messages.append(HumanMessage(content=f\"Classify this column: {example}\"))\n",
    "    res = chat(messages)\n",
    "    preds.append(res.content)"
   ]
  },
  {
   "cell_type": "markdown",
   "metadata": {},
   "source": [
    "FIVE-SHOT"
   ]
  },
  {
   "cell_type": "code",
   "execution_count": null,
   "metadata": {},
   "outputs": [],
   "source": [
    "import random\n",
    "#Five-shot column + role\n",
    "\n",
    "nr_type=\"five\"\n",
    "prompt_name = \"r\"\n",
    "\n",
    "preds = []\n",
    "for example in examples:\n",
    "    messages = []\n",
    "    \n",
    "    messages.append(SystemMessage(content=f\"You are a world-class data engineer and your task is to annotate a given column with only one of the following labels that are separated with comma: {labels_joined}. Answer only with labels from the provided label set!\"))\n",
    "    \n",
    "    for i in range(0,5):\n",
    "        index = random.randint(0, len(train_examples)-1)\n",
    "        messages.append(HumanMessage(content=f\"Classify this column: {train_examples[index]}\"))\n",
    "        messages.append(AIMessage(content=f\"{train_labels[index]}\"))\n",
    "    \n",
    "    messages.append(HumanMessage(content=f\"Classify this column: {example}\"))\n",
    "    res = chat(messages)\n",
    "    preds.append(res.content)"
   ]
  },
  {
   "cell_type": "code",
   "execution_count": null,
   "metadata": {},
   "outputs": [],
   "source": [
    "import random\n",
    "#Five-shot column + instructions + roles\n",
    "\n",
    "nr_type=\"five\"\n",
    "prompt_name = \"r+i\"\n",
    "\n",
    "\n",
    "preds = []\n",
    "for example in examples:\n",
    "    messages = []\n",
    "    \n",
    "    messages.append(SystemMessage(content=f\"You are a great data scientist. The best at what you do and your task is to annotate a given column with only one of the following labels that are separated with comma: {labels_joined}. Answer only with the labels from the provided label-set!\"))\n",
    "    messages.append(SystemMessage(content= \"Your instructions for annotating the column are as follows: \\n\"\n",
    "                                            f\"1. Examine the column and review the given labels: {labels_joined}. \\n\"\n",
    "                                            \"2. Analyze the values within the column. \\n\"\n",
    "                                            \"3. Choose the label that best represents the meaning of the column. \\n\"\n",
    "                                            f\"4. Respond using only labels from the provided set: {labels_joined}. Ensure that your answer contains ONLY labels from the set and no additional text or characters.\"))\n",
    "    \n",
    "    for i in range(0,5):\n",
    "        index = random.randint(0, len(train_examples)-1)\n",
    "        messages.append(HumanMessage(content=f\"Classify this column: {train_examples[index]}\"))\n",
    "        messages.append(AIMessage(content=f\"{train_labels[index]}\"))\n",
    "    \n",
    "    messages.append(HumanMessage(content=f\"Classify this column: {example}\"))\n",
    "    res = chat(messages)\n",
    "    preds.append(res.content)"
   ]
  },
  {
   "cell_type": "code",
   "execution_count": null,
   "metadata": {},
   "outputs": [],
   "source": [
    "import random\n",
    "#Five-shot column + instructions + roles\n",
    "\n",
    "nr_type=\"five\"\n",
    "prompt_name = \"r+i+s_b_s\"\n",
    "\n",
    "\n",
    "preds = []\n",
    "for example in examples:\n",
    "    messages = []\n",
    "    \n",
    "    messages.append(SystemMessage(content=f\"You are a great data scientist, the best at what you do and your task is to classify a given column with ONLY one of the following labels that are separated with comma: {labels_joined}.\"))    \n",
    "    messages.append(SystemMessage(content= \"Your instructions for annotating the column are as follows: \\n\"\n",
    "                                            f\"1. Examine the column and review the given labels: {labels_joined}. \\n\"\n",
    "                                            \"2. Analyze the values within the column. \\n\"\n",
    "                                            \"3. Choose the label that best represents the meaning of the column. \\n\"\n",
    "                                            f\"4. Respond using only labels from the provided set: {labels_joined}. Ensure that your answer contains ONLY labels from the set and no additional text or characters.\"))\n",
    "    \n",
    "    messages.append(SystemMessage(content=\"Let's think step by step.\"))\n",
    "\n",
    "  \n",
    "    for i in range(0,5):\n",
    "        index = random.randint(0, len(train_examples)-1)\n",
    "        messages.append(HumanMessage(content=f\"Classify this column: {train_examples[index]}\"))\n",
    "        messages.append(AIMessage(content=f\"{train_labels[index]}\"))\n",
    "    \n",
    "    messages.append(HumanMessage(content=f\"Classify this column: {example}\"))\n",
    "    res = chat(messages)\n",
    "    preds.append(res.content)"
   ]
  },
  {
   "cell_type": "code",
   "execution_count": null,
   "metadata": {},
   "outputs": [],
   "source": [
    "import random\n",
    "#Five-shot column  role + closing phrase(motivate)\n",
    "\n",
    "nr_type=\"five\"\n",
    "prompt_name = \"r+m\"\n",
    "\n",
    "\n",
    "preds = []\n",
    "for example in examples:\n",
    "    messages = []\n",
    "     \n",
    "    messages.append(SystemMessage(content=f\"You are a world-class data engineer and your task is to annotate a given column with ONLY one of the following labels that are separated with comma: {labels_joined}.\"))\n",
    "    messages.append(SystemMessage(content=\"Your answer is very important. Take your time and think well before answering!\"))\n",
    "\n",
    "  \n",
    "    for i in range(0,5):\n",
    "        index = random.randint(0, len(train_examples)-1)\n",
    "        messages.append(HumanMessage(content=f\"Classify this column: {train_examples[index]}\"))\n",
    "        messages.append(AIMessage(content=f\"{train_labels[index]}\"))\n",
    "    \n",
    "    messages.append(HumanMessage(content=f\"Classify this column: {example}\"))\n",
    "    res = chat(messages)\n",
    "    preds.append(res.content)"
   ]
  },
  {
   "cell_type": "code",
   "execution_count": null,
   "metadata": {},
   "outputs": [],
   "source": [
    "#role + instructions + context\n",
    "import random \n",
    "\n",
    "nr_type=\"five\"\n",
    "prompt_name = \"r+i+c\"\n",
    "\n",
    "preds = []\n",
    "for example in examples:\n",
    "    messages = []\n",
    "\n",
    "    messages.append(SystemMessage(content=f\"You are a world-class data engineer and your task is to annotate a given column with ONLY one of the following labels that are separated with comma: {labels_joined}.\"))\n",
    "    messages.append(SystemMessage(content= \"Your instructions for annotating the column are as follows: \\n\"\n",
    "                                            f\"1. Examine the column and review the given labels: {labels_joined}. \\n\"\n",
    "                                            \"2. Analyze the values within the column. \\n\"\n",
    "                                            \"3. Choose the label that best represents the meaning of the column. \\n\"\n",
    "                                            f\"4. Respond using only labels from the provided set: {labels_joined}. Ensure that your answer contains ONLY labels from the set and no additional text or characters.\"))\n",
    "    \n",
    "    messages.append(SystemMessage(content=f\"CONTEXT: Column Type Annotation is a sub-task of Table Annotation and involves categorizing each column of a table based on its content.  Your task is the same, to analyze and then predict the column type with one of the provided labels from the label-set!\")) \n",
    "    \n",
    "    for i in range(0,5):\n",
    "        index = random.randint(0, len(train_examples)-1)\n",
    "        messages.append(HumanMessage(content=f\"Classify this column: {train_examples[index]}\"))\n",
    "        messages.append(AIMessage(content=f\"{train_labels[index]}\"))\n",
    "    \n",
    "    messages.append(HumanMessage(content=f\"Classify this column: {example}\"))\n",
    "    res = chat(messages)\n",
    "    preds.append(res.content)"
   ]
  },
  {
   "cell_type": "code",
   "execution_count": null,
   "metadata": {},
   "outputs": [],
   "source": []
  },
  {
   "cell_type": "code",
   "execution_count": null,
   "id": "21b93a31",
   "metadata": {},
   "outputs": [],
   "source": [
    "preds[:15]"
   ]
  },
  {
   "cell_type": "code",
   "execution_count": 47,
   "id": "8c15c770",
   "metadata": {},
   "outputs": [],
   "source": [
    "file_name=f'Predictions/{model_name}/chat-column-{prompt_name}-{nr}-shot.pkl'\n",
    "f = open(file_name,'wb')\n",
    "pickle.dump(preds,f)\n",
    "f.close()"
   ]
  },
  {
   "cell_type": "code",
   "execution_count": 61,
   "metadata": {},
   "outputs": [],
   "source": [
    "# FIVE-SHOT\n",
    "file_name=f'Predictions/{model_name}/chat-column-{prompt_name}-{nr_type}-shot.pkl'\n",
    "f = open(file_name,'wb')\n",
    "pickle.dump(preds,f)\n",
    "f.close()"
   ]
  },
  {
   "cell_type": "markdown",
   "id": "4cd98cab",
   "metadata": {},
   "source": [
    "## Evaluation"
   ]
  },
  {
   "cell_type": "code",
   "execution_count": null,
   "id": "af221a94",
   "metadata": {
    "scrolled": true
   },
   "outputs": [],
   "source": [
    "predictions = []\n",
    "for i, pred in enumerate(preds):\n",
    "    from_sent = re.findall('\"([^\"]*)\"',pred)\n",
    "    if len(from_sent) == 0:\n",
    "        if \":\" in pred:\n",
    "            pred = pred.split(':')[1]\n",
    "        if \".\" in pred:\n",
    "            pred = pred.split('.')[0]\n",
    "        pred = pred.strip()\n",
    "        \n",
    "        if pred in text_to_label:\n",
    "            predictions.append(text_to_label[pred])\n",
    "        else:\n",
    "            if any(label in pred for label in text_to_label):\n",
    "                for label in text_to_label:\n",
    "                    if label in pred:\n",
    "                        predictions.append(text_to_label[label])\n",
    "                        break\n",
    "            else:\n",
    "                print(f\"For test example {i} out of label space prediction: {pred}\")\n",
    "                predictions.append('-')\n",
    "    else:\n",
    "        if from_sent[0] in text_to_label:\n",
    "            predictions.append(text_to_label[from_sent[0]])\n",
    "        else:\n",
    "            print(f\"For test example {i} out of label space prediction: {pred}\")\n",
    "            predictions.append('-')"
   ]
  },
  {
   "cell_type": "code",
   "execution_count": null,
   "metadata": {},
   "outputs": [],
   "source": [
    "predictions[:15]"
   ]
  },
  {
   "cell_type": "markdown",
   "id": "0ebaf233",
   "metadata": {},
   "source": [
    "### Calculate Precision, Recall, Macro-F1 and Micro-F1"
   ]
  },
  {
   "cell_type": "code",
   "execution_count": 64,
   "metadata": {},
   "outputs": [],
   "source": [
    "def calculate_f1_scores(y_tests, y_preds, num_classes, types):\n",
    "\n",
    "    y_tests = [types.index(y) for y in y_tests]\n",
    "    y_preds = [types.index(y) for y in y_preds]\n",
    "    \n",
    "    cm = np.zeros(shape=(num_classes,num_classes))\n",
    "    \n",
    "    for i in range(len(y_tests)):\n",
    "        cm[y_preds[i]][y_tests[i]] += 1\n",
    "        \n",
    "    report = {}\n",
    "    \n",
    "    for j in range(len(cm[0])):\n",
    "        report[j] = {}\n",
    "        report[j]['FN'] = 0\n",
    "        report[j]['FP'] = 0\n",
    "        report[j]['TP'] = cm[j][j]\n",
    "\n",
    "        for i in range(len(cm)):\n",
    "            if i != j:\n",
    "                report[j]['FN'] += cm[i][j]\n",
    "        for k in range(len(cm[0])):\n",
    "            if k != j:\n",
    "                report[j]['FP'] += cm[j][k]\n",
    "\n",
    "        precision = report[j]['TP'] / (report[j]['TP'] + report[j]['FP'])\n",
    "        recall = report[j]['TP'] / (report[j]['TP'] + report[j]['FN'])\n",
    "        f1 = 2*precision*recall / (precision + recall)\n",
    "        \n",
    "        if np.isnan(f1):\n",
    "            f1 = 0\n",
    "        if np.isnan(precision):\n",
    "            f1 = 0\n",
    "        if np.isnan(recall):\n",
    "            f1 = 0\n",
    "\n",
    "        report[j]['p'] =  precision\n",
    "        report[j]['r'] =  recall\n",
    "        report[j]['f1'] = f1\n",
    "    \n",
    "    all_fn = 0\n",
    "    all_tp = 0\n",
    "    all_fp = 0\n",
    "\n",
    "    for r in report:\n",
    "        if r != num_classes-1:\n",
    "            all_fn += report[r]['FN']\n",
    "            all_tp += report[r]['TP']\n",
    "            all_fp += report[r]['FP']\n",
    "        \n",
    "    class_f1s = [ report[class_]['f1'] for class_ in report]\n",
    "    class_p = [ 0 if np.isnan(report[class_]['p']) else report[class_]['p'] for class_ in report]\n",
    "    class_r = [ 0 if np.isnan(report[class_]['r']) else report[class_]['r'] for class_ in report]\n",
    "    macro_f1 = sum(class_f1s[:-1]) / (num_classes-1)\n",
    "    \n",
    "    p =  sum(class_p[:-1]) / (num_classes-1)\n",
    "    r =  sum(class_r[:-1]) / (num_classes-1)\n",
    "    micro_f1 = all_tp / ( all_tp + (1/2 * (all_fp + all_fn) )) \n",
    "    \n",
    "    per_class_eval = {}\n",
    "    for index, t in enumerate(types[:-1]):\n",
    "        per_class_eval[t] = {\"Precision\":class_p[index], \"Recall\": class_r[index], \"F1\": class_f1s[index]}\n",
    "    \n",
    "    evaluation = {\n",
    "        \"Micro-F1\": micro_f1,\n",
    "        \"Macro-F1\": macro_f1,\n",
    "        \"Precision\": p,\n",
    "        \"Recall\": r\n",
    "    }\n",
    "    \n",
    "    return [ evaluation, per_class_eval]\n"
   ]
  },
  {
   "cell_type": "code",
   "execution_count": null,
   "id": "2b214bd0",
   "metadata": {
    "scrolled": true
   },
   "outputs": [],
   "source": [
    "types = list(set(labels))\n",
    "types = types + [\"-\"] if \"-\" in predictions else types\n",
    "evaluation, per_class_eval = calculate_f1_scores(labels, predictions, len(types), types)"
   ]
  },
  {
   "cell_type": "code",
   "execution_count": null,
   "id": "91e6e35d",
   "metadata": {},
   "outputs": [],
   "source": [
    "evaluation"
   ]
  },
  {
   "cell_type": "code",
   "execution_count": null,
   "id": "770bbcaf",
   "metadata": {
    "scrolled": true
   },
   "outputs": [],
   "source": [
    "per_class_eval"
   ]
  },
  {
   "cell_type": "markdown",
   "id": "35074db1",
   "metadata": {},
   "source": [
    "## Error Analysis"
   ]
  },
  {
   "cell_type": "code",
   "execution_count": null,
   "id": "960b5c02",
   "metadata": {},
   "outputs": [],
   "source": [
    "errors = 0\n",
    "for i in range(len(predictions)):\n",
    "    if predictions[i] != labels[i]:\n",
    "        errors += 1\n",
    "        print(f\"Predicted as {predictions[i]} when it was {labels[i]}\")\n",
    "errors"
   ]
  },
  {
   "cell_type": "markdown",
   "id": "ddba5377",
   "metadata": {},
   "source": [
    "### Re-load previous preds files"
   ]
  },
  {
   "cell_type": "code",
   "execution_count": null,
   "id": "b58c755c",
   "metadata": {},
   "outputs": [],
   "source": [
    "with open(f'Predictions/{model_name}/chat-column-{prompt_name}-{nr}-shot.pkl', \"rb\") as f:\n",
    "    preds = pickle.load(f)"
   ]
  },
  {
   "cell_type": "code",
   "execution_count": 51,
   "metadata": {},
   "outputs": [],
   "source": [
    "#five-shot\n",
    "with open(f'Predictions/{model_name}/chat-column-{prompt_name}-{nr_type}-shot.pkl', \"rb\") as f:\n",
    "    preds = pickle.load(f)"
   ]
  },
  {
   "cell_type": "code",
   "execution_count": null,
   "metadata": {},
   "outputs": [],
   "source": [
    "preds"
   ]
  }
 ],
 "metadata": {
  "kernelspec": {
   "display_name": "Python 3 (ipykernel)",
   "language": "python",
   "name": "python3"
  },
  "language_info": {
   "codemirror_mode": {
    "name": "ipython",
    "version": 3
   },
   "file_extension": ".py",
   "mimetype": "text/x-python",
   "name": "python",
   "nbconvert_exporter": "python",
   "pygments_lexer": "ipython3",
   "version": "3.8.18"
  }
 },
 "nbformat": 4,
 "nbformat_minor": 5
}
