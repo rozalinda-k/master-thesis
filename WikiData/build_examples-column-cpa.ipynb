{
 "cells": [
  {
   "cell_type": "code",
   "execution_count": 1,
   "metadata": {},
   "outputs": [],
   "source": [
    "import pandas as pd"
   ]
  },
  {
   "cell_type": "code",
   "execution_count": 2,
   "metadata": {},
   "outputs": [],
   "source": [
    "cpa_train_gt = pd.read_json('train.table_rel_extraction.json')\n",
    "cpa_test_gt = pd.read_json('test.table_rel_extraction.json')"
   ]
  },
  {
   "cell_type": "code",
   "execution_count": 4,
   "metadata": {},
   "outputs": [],
   "source": [
    "all_labels = ['time.event.locations', 'music.artist.album', 'sports.sports_team.sport', 'baseball.baseball_team.league', 'tv.tv_program.country_of_origin', 'music.album.artist', 'sports.sports_team.location', 'time.event.instance_of_recurring_event', 'aviation.airline.hubs', 'sports.sports_championship_event.champion', 'sports.sports_facility.teams', 'baseball.baseball_player.position_s', 'sports.sports_league.teams-sports.sports_league_participation.team', 'tv.tv_network.programs-tv.tv_network_duration.program', 'sports.sports_league_season.league', 'olympics.olympic_athlete.country-olympics.olympic_athlete_affiliation.country', 'american_football.football_player.position_s', 'music.composer.compositions', 'meteorology.tropical_cyclone.tropical_cyclone_season', 'cvg.computer_videogame.developer', 'tv.tv_character.appeared_in_tv_program-tv.regular_tv_appearance.actor', 'cvg.computer_videogame.publisher', 'soccer.football_player.position_s', 'tv.tv_program.original_network-tv.tv_network_duration.network', 'music.composition.composer', 'ice_hockey.hockey_player.hockey_position', 'book.author.works_written', 'film.film.genre', 'film.film.directed_by', 'film.film.produced_by', 'film.film.language', 'broadcast.broadcast.area_served', 'award.award_category.category_of', 'location.location.nearby_airports', 'location.country.official_language']"
   ]
  },
  {
   "cell_type": "code",
   "execution_count": 6,
   "metadata": {},
   "outputs": [],
   "source": [
    "test_examples = []\n",
    "\n",
    "for primary_row_index, primary_row_values in cpa_test_gt.iterrows():\n",
    "    new_col_labels = []\n",
    "    for col_index, col_labels in enumerate(primary_row_values[7]):\n",
    "        sampled_labels = []\n",
    "        for label in col_labels:\n",
    "            if label in all_labels:\n",
    "                sampled_labels.append(label)\n",
    "        \n",
    "        if len(sampled_labels) !=0:\n",
    "            new_col_labels.append(sampled_labels)\n",
    "\n",
    "            column_string = \"Column 1: \"\n",
    "\n",
    "            for row_index in primary_row_values[6][0][:5]:\n",
    "                column_string += f\"{row_index[1][1]} \"\n",
    "            column_string = column_string.strip()\n",
    "\n",
    "            column_string += \"\\nColumn 2: \"\n",
    "        \n",
    "            for row_index in primary_row_values[6][col_index+1][:5]:\n",
    "                column_string += f\"{row_index[1][1]} \"\n",
    "            column_string = column_string.strip()\n",
    "\n",
    "            test_examples.append([primary_row_values[0], col_index, column_string, sampled_labels])"
   ]
  },
  {
   "cell_type": "code",
   "execution_count": null,
   "metadata": {},
   "outputs": [],
   "source": [
    "test_examples"
   ]
  },
  {
   "cell_type": "code",
   "execution_count": 16,
   "metadata": {},
   "outputs": [],
   "source": [
    "train_examples = []\n",
    "\n",
    "for primary_row_index, primary_row_values in cpa_train_gt.iterrows():\n",
    "    new_col_labels = []\n",
    "    for col_index, col_labels in enumerate(primary_row_values[7]):\n",
    "        sampled_labels = []\n",
    "        for label in col_labels:\n",
    "            if label in all_labels:\n",
    "                sampled_labels.append(label)\n",
    "        \n",
    "        if len(sampled_labels) !=0:\n",
    "            new_col_labels.append(sampled_labels)\n",
    "\n",
    "            column_string = \"Column 1: \"\n",
    "\n",
    "            for row_index in primary_row_values[6][0][:5]:\n",
    "                column_string += f\"{row_index[1][1]} \"\n",
    "            column_string = column_string.strip()\n",
    "\n",
    "            column_string += \"\\nColumn 2: \"\n",
    "        \n",
    "            for row_index in primary_row_values[6][col_index+1][:5]:\n",
    "                column_string += f\"{row_index[1][1]} \"\n",
    "            column_string = column_string.strip()\n",
    "\n",
    "            train_examples.append([primary_row_values[0], col_index, column_string, sampled_labels])"
   ]
  },
  {
   "cell_type": "code",
   "execution_count": null,
   "metadata": {},
   "outputs": [],
   "source": [
    "train_examples"
   ]
  },
  {
   "cell_type": "code",
   "execution_count": 20,
   "metadata": {},
   "outputs": [],
   "source": [
    "import pickle"
   ]
  },
  {
   "cell_type": "code",
   "execution_count": 21,
   "metadata": {},
   "outputs": [],
   "source": [
    "file_name='../WikiData CPA/wiki-cpa-test-column.pkl'\n",
    "f = open(file_name,'wb')\n",
    "pickle.dump(test_examples,f)\n",
    "f.close()"
   ]
  },
  {
   "cell_type": "code",
   "execution_count": 22,
   "metadata": {},
   "outputs": [],
   "source": [
    "file_name='../WikiData CPA/wiki-cpa-train-column.pkl'\n",
    "f = open(file_name,'wb')\n",
    "pickle.dump(train_examples,f)\n",
    "f.close()"
   ]
  }
 ],
 "metadata": {
  "kernelspec": {
   "display_name": "myenv",
   "language": "python",
   "name": "python3"
  },
  "language_info": {
   "codemirror_mode": {
    "name": "ipython",
    "version": 3
   },
   "file_extension": ".py",
   "mimetype": "text/x-python",
   "name": "python",
   "nbconvert_exporter": "python",
   "pygments_lexer": "ipython3",
   "version": "3.8.18"
  },
  "orig_nbformat": 4
 },
 "nbformat": 4,
 "nbformat_minor": 2
}
