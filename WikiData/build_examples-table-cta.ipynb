{
 "cells": [
  {
   "cell_type": "code",
   "execution_count": 1,
   "metadata": {},
   "outputs": [],
   "source": [
    "import pandas as pd\n",
    "import re"
   ]
  },
  {
   "cell_type": "code",
   "execution_count": 2,
   "metadata": {},
   "outputs": [],
   "source": [
    "cta_train_gt = pd.read_json('train.table_col_type.json')\n",
    "cta_test_gt = pd.read_json('test.table_col_type.json')"
   ]
  },
  {
   "cell_type": "code",
   "execution_count": 5,
   "metadata": {},
   "outputs": [
    {
     "data": {
      "text/plain": [
       "4764"
      ]
     },
     "execution_count": 5,
     "metadata": {},
     "output_type": "execute_result"
    }
   ],
   "source": [
    "len(cta_test_gt)"
   ]
  },
  {
   "cell_type": "code",
   "execution_count": 6,
   "metadata": {},
   "outputs": [
    {
     "data": {
      "text/plain": [
       "397098"
      ]
     },
     "execution_count": 6,
     "metadata": {},
     "output_type": "execute_result"
    }
   ],
   "source": [
    "len(cta_train_gt)"
   ]
  },
  {
   "cell_type": "code",
   "execution_count": null,
   "metadata": {},
   "outputs": [],
   "source": [
    "cta_test_gt"
   ]
  },
  {
   "cell_type": "code",
   "execution_count": null,
   "metadata": {},
   "outputs": [],
   "source": [
    "all_labels = ['soccer.football_league', 'government.government_office_or_title', 'organization.non_profit_organization', 'olympics.olympic_games', 'cvg.cvg_genre', 'ice_hockey.hockey_position', 'tv.tv_network', 'aviation.airline', 'american_football.football_conference', 'soccer.football_world_cup', 'american_football.football_coach', 'military.military_unit', 'military.military_post', 'music.media_format', 'tv.tv_personality', 'baseball.baseball_team', 'cvg.cvg_developer', 'soccer.football_award', 'ice_hockey.hockey_team', 'tv.tv_writer', 'meteorology.tropical_cyclone_season', 'soccer.fifa', 'cvg.cvg_publisher', 'baseball.baseball_player', 'sports.sports_championship', 'soccer.football_team_manager', 'sports.golfer', 'baseball.baseball_position', 'military.rank', 'cvg.cvg_platform', 'music.musical_group', 'amusement_parks.ride', 'music.genre', 'music.lyricist', 'music.record_label', 'meteorology.tropical_cyclone', 'aviation.airport']"
   ]
  },
  {
   "cell_type": "code",
   "execution_count": 196,
   "metadata": {},
   "outputs": [],
   "source": [
    "test_examples = []\n",
    "\n",
    "for primary_row_index, primary_row_values in cta_test_gt.iterrows():\n",
    "\n",
    "    table_data = []\n",
    "    sampled_labels = []\n",
    "\n",
    "    all_columns = []\n",
    "\n",
    "    for col_index, col_labels in enumerate(primary_row_values[7]):\n",
    "\n",
    "        sampled_labels_column = []\n",
    "        for label in col_labels:\n",
    "            if label in all_labels:\n",
    "                sampled_labels_column.append(label)\n",
    "        \n",
    "        if len(sampled_labels_column) != 0:\n",
    "            sampled_labels.append(sampled_labels_column)\n",
    "            row_col = []\n",
    "\n",
    "            for row_index in primary_row_values[6][col_index][:5]:\n",
    "\n",
    "                row_col.append(row_index[1][1])\n",
    "            if len(primary_row_values[6][col_index]) < 5:\n",
    "                for l in range(5-len(primary_row_values[6][col_index])):\n",
    "                    row_col.append(\" \")\n",
    "            all_columns.append(row_col)\n",
    "\n",
    "    col_labels = \" || \".join(f\"Column {i+1}\" for i in range(0, len(all_columns))) \n",
    "    table_data.append(col_labels)\n",
    "\n",
    "\n",
    "    if len(all_columns) > 1:\n",
    "        for i in range(len(all_columns[0])):\n",
    "            row_string = []\n",
    "            for j in range(len(all_columns)):\n",
    "                row_string.append(all_columns[j][i])\n",
    "            table_data.append(\" || \".join(row_string).strip())\n",
    "\n",
    "    elif len(all_columns) == 1:\n",
    "        row_string = []\n",
    "        for j in range(len(all_columns[0])):\n",
    "            row_string.append(all_columns[0][j])\n",
    "        table_data.append(\" ||\\n\".join(row_string))\n",
    "\n",
    "    \n",
    "    if sampled_labels:\n",
    "        if len(all_columns) > 1:\n",
    "            formatted_output = \" ||\\n\".join(table_data)\n",
    "            formatted_output += \" ||\"\n",
    "        else:\n",
    "            formatted_output = \" ||\\n\".join(table_data)\n",
    "           \n",
    "        test_examples.append([primary_row_values[0], formatted_output, sampled_labels])\n",
    "\n"
   ]
  },
  {
   "cell_type": "code",
   "execution_count": null,
   "metadata": {},
   "outputs": [],
   "source": [
    "test_examples"
   ]
  },
  {
   "cell_type": "code",
   "execution_count": 198,
   "metadata": {},
   "outputs": [
    {
     "data": {
      "text/plain": [
       "622"
      ]
     },
     "execution_count": 198,
     "metadata": {},
     "output_type": "execute_result"
    }
   ],
   "source": [
    "len(test_examples)"
   ]
  },
  {
   "cell_type": "code",
   "execution_count": 199,
   "metadata": {},
   "outputs": [],
   "source": [
    "train_examples = []\n",
    "\n",
    "for primary_row_index, primary_row_values in cta_train_gt.iterrows():\n",
    "\n",
    "    table_data = []\n",
    "    sampled_labels = []\n",
    "\n",
    "    all_columns = []\n",
    "\n",
    "    for col_index, col_labels in enumerate(primary_row_values[7]):\n",
    "\n",
    "        sampled_labels_column = []\n",
    "        for label in col_labels:\n",
    "            if label in all_labels:\n",
    "                sampled_labels_column.append(label)\n",
    "        \n",
    "        if len(sampled_labels_column) != 0:\n",
    "            sampled_labels.append(sampled_labels_column)\n",
    "            row_col = []\n",
    "\n",
    "            for row_index in primary_row_values[6][col_index][:5]:\n",
    "\n",
    "                row_col.append(row_index[1][1])\n",
    "            if len(primary_row_values[6][col_index]) < 5:\n",
    "                for l in range(5-len(primary_row_values[6][col_index])):\n",
    "                    row_col.append(\" \")\n",
    "            all_columns.append(row_col)\n",
    "\n",
    "    col_labels = \" || \".join(f\"Column {i+1}\" for i in range(0, len(all_columns))) \n",
    "    table_data.append(col_labels)\n",
    "\n",
    "    if len(all_columns) > 1:\n",
    "        for i in range(len(all_columns[0])):\n",
    "            row_string = []\n",
    "            for j in range(len(all_columns)):\n",
    "                row_string.append(all_columns[j][i])\n",
    "            table_data.append(\" || \".join(row_string).strip())\n",
    "       \n",
    "    elif len(all_columns) == 1:\n",
    "        row_string = []\n",
    "        for j in range(len(all_columns[0])):\n",
    "            row_string.append(all_columns[0][j])\n",
    "        table_data.append(\" ||\\n\".join(row_string))\n",
    "\n",
    "    \n",
    "    if sampled_labels:\n",
    "        if len(all_columns) > 1:\n",
    "            formatted_output = \" ||\\n\".join(table_data)\n",
    "            formatted_output += \" ||\"\n",
    "        else:\n",
    "    \n",
    "            formatted_output = \" ||\\n\".join(table_data)\n",
    "           \n",
    "        train_examples.append([primary_row_values[0], formatted_output, sampled_labels])\n"
   ]
  },
  {
   "cell_type": "code",
   "execution_count": null,
   "metadata": {},
   "outputs": [],
   "source": [
    "train_examples"
   ]
  },
  {
   "cell_type": "code",
   "execution_count": 201,
   "metadata": {},
   "outputs": [
    {
     "data": {
      "text/plain": [
       "32557"
      ]
     },
     "execution_count": 201,
     "metadata": {},
     "output_type": "execute_result"
    }
   ],
   "source": [
    "len(train_examples)"
   ]
  },
  {
   "cell_type": "code",
   "execution_count": 202,
   "metadata": {},
   "outputs": [],
   "source": [
    "import pickle"
   ]
  },
  {
   "cell_type": "code",
   "execution_count": 203,
   "metadata": {},
   "outputs": [],
   "source": [
    "file_name='../WikiData CTA/wiki-cta-test-table.pkl'\n",
    "f = open(file_name,'wb')\n",
    "pickle.dump(test_examples,f)\n",
    "f.close()"
   ]
  },
  {
   "cell_type": "code",
   "execution_count": 204,
   "metadata": {},
   "outputs": [],
   "source": [
    "file_name='../WikiData CTA/wiki-cta-train-table.pkl'\n",
    "f = open(file_name,'wb')\n",
    "pickle.dump(train_examples,f)\n",
    "f.close()"
   ]
  }
 ],
 "metadata": {
  "kernelspec": {
   "display_name": "myenv",
   "language": "python",
   "name": "python3"
  },
  "language_info": {
   "codemirror_mode": {
    "name": "ipython",
    "version": 3
   },
   "file_extension": ".py",
   "mimetype": "text/x-python",
   "name": "python",
   "nbconvert_exporter": "python",
   "pygments_lexer": "ipython3",
   "version": "3.8.18"
  },
  "orig_nbformat": 4
 },
 "nbformat": 4,
 "nbformat_minor": 2
}
